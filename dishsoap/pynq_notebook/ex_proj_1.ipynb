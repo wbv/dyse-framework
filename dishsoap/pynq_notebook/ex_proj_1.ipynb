{
 "cells": [
  {
   "cell_type": "code",
   "execution_count": 1,
   "id": "940b56e2",
   "metadata": {},
   "outputs": [
    {
     "data": {
      "application/javascript": [
       "\n",
       "try {\n",
       "require(['notebook/js/codecell'], function(codecell) {\n",
       "  codecell.CodeCell.options_default.highlight_modes[\n",
       "      'magic_text/x-csrc'] = {'reg':[/^%%microblaze/]};\n",
       "  Jupyter.notebook.events.one('kernel_ready.Kernel', function(){\n",
       "      Jupyter.notebook.get_cells().map(function(cell){\n",
       "          if (cell.cell_type == 'code'){ cell.auto_highlight(); } }) ;\n",
       "  });\n",
       "});\n",
       "} catch (e) {};\n"
      ]
     },
     "metadata": {},
     "output_type": "display_data"
    },
    {
     "data": {
      "application/javascript": [
       "\n",
       "try {\n",
       "require(['notebook/js/codecell'], function(codecell) {\n",
       "  codecell.CodeCell.options_default.highlight_modes[\n",
       "      'magic_text/x-csrc'] = {'reg':[/^%%pybind11/]};\n",
       "  Jupyter.notebook.events.one('kernel_ready.Kernel', function(){\n",
       "      Jupyter.notebook.get_cells().map(function(cell){\n",
       "          if (cell.cell_type == 'code'){ cell.auto_highlight(); } }) ;\n",
       "  });\n",
       "});\n",
       "} catch (e) {};\n"
      ]
     },
     "metadata": {},
     "output_type": "display_data"
    }
   ],
   "source": [
    "import numpy as np\n",
    "import pynq\n",
    "from dishsoap import CountStreamTest\n",
    "\n",
    "ol = pynq.Overlay('ex_proj_1.bit', download=True)"
   ]
  },
  {
   "cell_type": "code",
   "execution_count": 2,
   "id": "2fd54b71",
   "metadata": {},
   "outputs": [
    {
     "name": "stdout",
     "output_type": "stream",
     "text": [
      "{'addr_range': 65536,\n",
      " 'bdtype': None,\n",
      " 'device': <pynq.pl_server.embedded_device.EmbeddedDevice object at 0xaf5bcc88>,\n",
      " 'driver': <class 'pynq.lib.dma.DMA'>,\n",
      " 'fullpath': 'axi_dma_0',\n",
      " 'gpio': {},\n",
      " 'interrupts': {},\n",
      " 'mem_id': 'S_AXI_LITE',\n",
      " 'memtype': 'REGISTER',\n",
      " 'parameters': {'C_BASEADDR': '0x40400000',\n",
      "                'C_DLYTMR_RESOLUTION': '125',\n",
      "                'C_ENABLE_MULTI_CHANNEL': '0',\n",
      "                'C_FAMILY': 'zynq',\n",
      "                'C_HIGHADDR': '0x4040FFFF',\n",
      "                'C_INCLUDE_MM2S': '0',\n",
      "                'C_INCLUDE_MM2S_DRE': '0',\n",
      "                'C_INCLUDE_MM2S_SF': '1',\n",
      "                'C_INCLUDE_S2MM': '1',\n",
      "                'C_INCLUDE_S2MM_DRE': '0',\n",
      "                'C_INCLUDE_S2MM_SF': '1',\n",
      "                'C_INCLUDE_SG': '0',\n",
      "                'C_INCREASE_THROUGHPUT': '0',\n",
      "                'C_MICRO_DMA': '0',\n",
      "                'C_MM2S_BURST_SIZE': '16',\n",
      "                'C_M_AXIS_MM2S_CNTRL_TDATA_WIDTH': '32',\n",
      "                'C_M_AXIS_MM2S_TDATA_WIDTH': '32',\n",
      "                'C_M_AXI_MM2S_ADDR_WIDTH': '32',\n",
      "                'C_M_AXI_MM2S_DATA_WIDTH': '32',\n",
      "                'C_M_AXI_S2MM_ADDR_WIDTH': '32',\n",
      "                'C_M_AXI_S2MM_DATA_WIDTH': '32',\n",
      "                'C_M_AXI_SG_ADDR_WIDTH': '32',\n",
      "                'C_M_AXI_SG_DATA_WIDTH': '32',\n",
      "                'C_NUM_MM2S_CHANNELS': '1',\n",
      "                'C_NUM_S2MM_CHANNELS': '1',\n",
      "                'C_PRMRY_IS_ACLK_ASYNC': '0',\n",
      "                'C_S2MM_BURST_SIZE': '16',\n",
      "                'C_SG_INCLUDE_STSCNTRL_STRM': '0',\n",
      "                'C_SG_LENGTH_WIDTH': '14',\n",
      "                'C_SG_USE_STSAPP_LENGTH': '0',\n",
      "                'C_S_AXIS_S2MM_STS_TDATA_WIDTH': '32',\n",
      "                'C_S_AXIS_S2MM_TDATA_WIDTH': '32',\n",
      "                'C_S_AXI_LITE_ADDR_WIDTH': '10',\n",
      "                'C_S_AXI_LITE_DATA_WIDTH': '32',\n",
      "                'Component_Name': 'zynq7000_preset_axi_dma_0_0',\n",
      "                'EDK_IPTYPE': 'PERIPHERAL',\n",
      "                'c_addr_width': '32',\n",
      "                'c_dlytmr_resolution': '125',\n",
      "                'c_enable_multi_channel': '0',\n",
      "                'c_include_mm2s': '0',\n",
      "                'c_include_mm2s_dre': '0',\n",
      "                'c_include_mm2s_sf': '1',\n",
      "                'c_include_s2mm': '1',\n",
      "                'c_include_s2mm_dre': '0',\n",
      "                'c_include_s2mm_sf': '1',\n",
      "                'c_include_sg': '0',\n",
      "                'c_increase_throughput': '0',\n",
      "                'c_m_axi_mm2s_data_width': '32',\n",
      "                'c_m_axi_s2mm_data_width': '32',\n",
      "                'c_m_axis_mm2s_tdata_width': '32',\n",
      "                'c_micro_dma': '0',\n",
      "                'c_mm2s_burst_size': '16',\n",
      "                'c_num_mm2s_channels': '1',\n",
      "                'c_num_s2mm_channels': '1',\n",
      "                'c_prmry_is_aclk_async': '0',\n",
      "                'c_s2mm_burst_size': '16',\n",
      "                'c_s_axis_s2mm_tdata_width': '32',\n",
      "                'c_sg_include_stscntrl_strm': '0',\n",
      "                'c_sg_length_width': '14',\n",
      "                'c_sg_use_stsapp_length': '0',\n",
      "                'c_single_interface': '0'},\n",
      " 'phys_addr': 1077936128,\n",
      " 'registers': {'MM2S_CURDESC': {'access': 'read-write',\n",
      "                                'address_offset': 8,\n",
      "                                'description': 'MM2S DMA Current Descriptor '\n",
      "                                               'Pointer Register',\n",
      "                                'fields': {...},\n",
      "                                'size': 32},\n",
      "               'MM2S_CURDESC_MSB': {'access': 'read-write',\n",
      "                                    'address_offset': 12,\n",
      "                                    'description': 'MM2S DMA Current '\n",
      "                                                   'Descriptor Pointer '\n",
      "                                                   'Register',\n",
      "                                    'fields': {...},\n",
      "                                    'size': 32},\n",
      "               'MM2S_DMACR': {'access': 'read-write',\n",
      "                              'address_offset': 0,\n",
      "                              'description': 'MM2S DMA Control Register',\n",
      "                              'fields': {...},\n",
      "                              'size': 32},\n",
      "               'MM2S_DMASR': {'access': 'read-write',\n",
      "                              'address_offset': 4,\n",
      "                              'description': 'MM2S DMA Status Register',\n",
      "                              'fields': {...},\n",
      "                              'size': 32},\n",
      "               'MM2S_LENGTH': {'access': 'read-write',\n",
      "                               'address_offset': 40,\n",
      "                               'description': 'MM2S DMA Transfer Length '\n",
      "                                              'Register',\n",
      "                               'fields': {...},\n",
      "                               'size': 32},\n",
      "               'MM2S_SA': {'access': 'read-write',\n",
      "                           'address_offset': 24,\n",
      "                           'description': 'MM2S Source Address Register',\n",
      "                           'fields': {...},\n",
      "                           'size': 32},\n",
      "               'MM2S_SA_MSB': {'access': 'read-write',\n",
      "                               'address_offset': 28,\n",
      "                               'description': 'MM2S Source Address Register',\n",
      "                               'fields': {...},\n",
      "                               'size': 32},\n",
      "               'MM2S_TAILDESC': {'access': 'read-write',\n",
      "                                 'address_offset': 16,\n",
      "                                 'description': 'MM2S DMA Tail Descriptor '\n",
      "                                                'Pointer Register',\n",
      "                                 'fields': {...},\n",
      "                                 'size': 32},\n",
      "               'MM2S_TAILDESC_MSB': {'access': 'read-write',\n",
      "                                     'address_offset': 20,\n",
      "                                     'description': 'MM2S DMA Tail Descriptor '\n",
      "                                                    'Pointer Register',\n",
      "                                     'fields': {...},\n",
      "                                     'size': 32},\n",
      "               'S2MM_CURDESC': {'access': 'read-write',\n",
      "                                'address_offset': 56,\n",
      "                                'description': 'S2MM DMA Current Descriptor '\n",
      "                                               'Pointer Register',\n",
      "                                'fields': {...},\n",
      "                                'size': 32},\n",
      "               'S2MM_CURDESC_MSB': {'access': 'read-write',\n",
      "                                    'address_offset': 60,\n",
      "                                    'description': 'S2MM DMA Current '\n",
      "                                                   'Descriptor Pointer '\n",
      "                                                   'Register',\n",
      "                                    'fields': {...},\n",
      "                                    'size': 32},\n",
      "               'S2MM_DA': {'access': 'read-write',\n",
      "                           'address_offset': 72,\n",
      "                           'description': 'S2MM DMA Destination Address '\n",
      "                                          'Register',\n",
      "                           'fields': {...},\n",
      "                           'size': 32},\n",
      "               'S2MM_DA_MSB': {'access': 'read-write',\n",
      "                               'address_offset': 76,\n",
      "                               'description': 'S2MM Destination Address '\n",
      "                                              'Register',\n",
      "                               'fields': {...},\n",
      "                               'size': 32},\n",
      "               'S2MM_DMACR': {'access': 'read-write',\n",
      "                              'address_offset': 48,\n",
      "                              'description': 'S2MM DMA Control Register',\n",
      "                              'fields': {...},\n",
      "                              'size': 32},\n",
      "               'S2MM_DMASR': {'access': 'read-write',\n",
      "                              'address_offset': 52,\n",
      "                              'description': 'S2MM DMA Status Register',\n",
      "                              'fields': {...},\n",
      "                              'size': 32},\n",
      "               'S2MM_LENGTH': {'access': 'read-write',\n",
      "                               'address_offset': 88,\n",
      "                               'description': 'S2MM DMA Transfer Length '\n",
      "                                              'Register',\n"
     ]
    },
    {
     "name": "stdout",
     "output_type": "stream",
     "text": [
      "                               'fields': {...},\n",
      "                               'size': 32},\n",
      "               'S2MM_TAILDESC': {'access': 'read-write',\n",
      "                                 'address_offset': 64,\n",
      "                                 'description': 'S2MM DMA Tail Descriptor '\n",
      "                                                'Pointer Register',\n",
      "                                 'fields': {...},\n",
      "                                 'size': 32},\n",
      "               'S2MM_TAILDESC_MSB': {'access': 'read-write',\n",
      "                                     'address_offset': 68,\n",
      "                                     'description': 'S2MM DMA Tail Descriptor '\n",
      "                                                    'Pointer Register',\n",
      "                                     'fields': {...},\n",
      "                                     'size': 32},\n",
      "               'SG_CTL': {'access': 'read-write',\n",
      "                          'address_offset': 44,\n",
      "                          'description': 'Scatter/Gather User and Cache '\n",
      "                                         'Control Register',\n",
      "                          'fields': {...},\n",
      "                          'size': 32}},\n",
      " 'state': None,\n",
      " 'type': 'xilinx.com:ip:axi_dma:7.1'}\n"
     ]
    }
   ],
   "source": [
    "import pprint\n",
    "pp = pprint.PrettyPrinter(indent=1, width=80, depth=3)\n",
    "pp.pprint(ol.ip_dict['axi_dma_0'])"
   ]
  },
  {
   "cell_type": "code",
   "execution_count": 3,
   "id": "6b0c160a",
   "metadata": {},
   "outputs": [
    {
     "name": "stdout",
     "output_type": "stream",
     "text": [
      "{'addr_range': 65536,\n",
      " 'bdtype': None,\n",
      " 'device': <pynq.pl_server.embedded_device.EmbeddedDevice object at 0xaf5bcc88>,\n",
      " 'driver': <class 'dishsoap.CountStreamTest'>,\n",
      " 'fullpath': 'count_stream_test_0',\n",
      " 'gpio': {},\n",
      " 'interrupts': {},\n",
      " 'mem_id': 'S_AXI_registers',\n",
      " 'memtype': 'REGISTER',\n",
      " 'parameters': {'COUNTER_WIDTH': '8',\n",
      "                'C_M_AXIS_output_START_COUNT': '32',\n",
      "                'C_M_AXIS_output_TDATA_WIDTH': '32',\n",
      "                'C_S_AXI_registers_ADDR_WIDTH': '4',\n",
      "                'C_S_AXI_registers_BASEADDR': '0x43C00000',\n",
      "                'C_S_AXI_registers_DATA_WIDTH': '32',\n",
      "                'C_S_AXI_registers_HIGHADDR': '0x43C0FFFF',\n",
      "                'Component_Name': 'zynq7000_preset_count_stream_test_0_0',\n",
      "                'EDK_IPTYPE': 'PERIPHERAL'},\n",
      " 'phys_addr': 1136656384,\n",
      " 'registers': {},\n",
      " 'state': None,\n",
      " 'type': 'wbv:user:count_stream_test:0.1'}\n"
     ]
    }
   ],
   "source": [
    "pp.pprint(ol.ip_dict['count_stream_test_0'])"
   ]
  },
  {
   "cell_type": "code",
   "execution_count": 4,
   "id": "bee6e7f0",
   "metadata": {},
   "outputs": [],
   "source": [
    "from pynq import allocate # for DMA interactions\n",
    "\n",
    "dma_result = allocate(shape=(4,), dtype=np.uint8)\n",
    "ol.axi_dma_0.recvchannel.transfer(dma_result)\n",
    "ol.count_stream_test_0.write(0x0, 1)  # counter_lo\n",
    "ol.count_stream_test_0.write(0x4, 4) # counter_hi\n",
    "ol.count_stream_test_0.write(0x8, 2)  # counter start"
   ]
  },
  {
   "cell_type": "code",
   "execution_count": 5,
   "id": "ba1d6bea",
   "metadata": {},
   "outputs": [
    {
     "name": "stdout",
     "output_type": "stream",
     "text": [
      "Running? True\n",
      "Idle? False\n",
      "Error? False\n",
      "[0 0 0 0]\n",
      "1\n",
      "4\n",
      "2\n",
      "1\n"
     ]
    }
   ],
   "source": [
    "print('Running?', ol.axi_dma_0.recvchannel.running)\n",
    "print('Idle?', ol.axi_dma_0.recvchannel.idle)\n",
    "print('Error?', ol.axi_dma_0.recvchannel.error)\n",
    "dma_result.invalidate()\n",
    "print(dma_result)\n",
    "\n",
    "print(ol.count_stream_test_0.read(0x0))\n",
    "print(ol.count_stream_test_0.read(0x4))\n",
    "print(ol.count_stream_test_0.read(0x8))\n",
    "print(ol.count_stream_test_0.read(0xc))\n",
    "\n",
    "#ol.axi_dma_0.recvchannel.wait()\n",
    "#dma_result.invalidate()\n",
    "#print(dma_result)\n"
   ]
  },
  {
   "cell_type": "code",
   "execution_count": 6,
   "id": "7ae50120",
   "metadata": {},
   "outputs": [
    {
     "name": "stdout",
     "output_type": "stream",
     "text": [
      "Running? True\n",
      "Idle? False\n",
      "Error? False\n"
     ]
    }
   ],
   "source": [
    "print('Running?', ol.axi_dma_0.recvchannel.running)\n",
    "print('Idle?', ol.axi_dma_0.recvchannel.idle)\n",
    "print('Error?', ol.axi_dma_0.recvchannel.error)"
   ]
  },
  {
   "cell_type": "markdown",
   "id": "8f42e5aa",
   "metadata": {},
   "source": [
    "### Notes\n",
    "\n",
    "I think we need to enable interrupts on the DMA. Other things seem to be working (like the bit clearing in register 0x8)\n",
    "\n",
    "Might wanna test the other pieces of count_stream_test_0 as well."
   ]
  }
 ],
 "metadata": {
  "kernelspec": {
   "display_name": "Python 3",
   "language": "python",
   "name": "python3"
  },
  "language_info": {
   "codemirror_mode": {
    "name": "ipython",
    "version": 3
   },
   "file_extension": ".py",
   "mimetype": "text/x-python",
   "name": "python",
   "nbconvert_exporter": "python",
   "pygments_lexer": "ipython3",
   "version": "3.8.2"
  }
 },
 "nbformat": 4,
 "nbformat_minor": 5
}
