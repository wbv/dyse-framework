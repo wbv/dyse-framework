{
 "cells": [
  {
   "cell_type": "code",
   "execution_count": 1,
   "id": "940b56e2",
   "metadata": {},
   "outputs": [
    {
     "data": {
      "application/javascript": [
       "\n",
       "try {\n",
       "require(['notebook/js/codecell'], function(codecell) {\n",
       "  codecell.CodeCell.options_default.highlight_modes[\n",
       "      'magic_text/x-csrc'] = {'reg':[/^%%microblaze/]};\n",
       "  Jupyter.notebook.events.one('kernel_ready.Kernel', function(){\n",
       "      Jupyter.notebook.get_cells().map(function(cell){\n",
       "          if (cell.cell_type == 'code'){ cell.auto_highlight(); } }) ;\n",
       "  });\n",
       "});\n",
       "} catch (e) {};\n"
      ]
     },
     "metadata": {},
     "output_type": "display_data"
    },
    {
     "data": {
      "application/javascript": [
       "\n",
       "try {\n",
       "require(['notebook/js/codecell'], function(codecell) {\n",
       "  codecell.CodeCell.options_default.highlight_modes[\n",
       "      'magic_text/x-csrc'] = {'reg':[/^%%pybind11/]};\n",
       "  Jupyter.notebook.events.one('kernel_ready.Kernel', function(){\n",
       "      Jupyter.notebook.get_cells().map(function(cell){\n",
       "          if (cell.cell_type == 'code'){ cell.auto_highlight(); } }) ;\n",
       "  });\n",
       "});\n",
       "} catch (e) {};\n"
      ]
     },
     "metadata": {},
     "output_type": "display_data"
    }
   ],
   "source": [
    "import pynq\n",
    "from dishsoap import CountStreamTest, TestDmaStreamOverlay\n",
    "\n",
    "ol = pynq.Overlay('test_dma_stream.bit', download=True)"
   ]
  },
  {
   "cell_type": "code",
   "execution_count": 2,
   "id": "2fd54b71",
   "metadata": {},
   "outputs": [],
   "source": [
    "import pprint\n",
    "pp = pprint.PrettyPrinter(indent=1, width=80, depth=3)\n",
    "#pp.pprint(ol.ip_dict['axi_dma_0'])\n",
    "#pp.pprint(ol.ip_dict['count_stream_test_0'])"
   ]
  },
  {
   "cell_type": "code",
   "execution_count": 3,
   "id": "bee6e7f0",
   "metadata": {},
   "outputs": [],
   "source": [
    "from pynq import allocate # for DMA interactions\n",
    "\n",
    "def chan_status(chan):\n",
    "    if chan is None:\n",
    "        return ''\n",
    "    \n",
    "    r = chan.running\n",
    "    i = chan.idle\n",
    "    e = chan.error\n",
    "\n",
    "    return f'Run:{r} Idle:{i} Err:{e}'\n",
    "\n",
    "def dump_regs(dma, offset):\n",
    "    info = ''\n",
    "    cr = dma.mmio.read(offset + 0x0)\n",
    "    sr = dma.mmio.read(offset + 0x4)\n",
    "    lo = dma.mmio.read(offset + 0x18)\n",
    "    hi = dma.mmio.read(offset + 0x1c)\n",
    "    sz = dma.mmio.read(offset + 0x28)\n",
    "    info += f'CR:   0x{cr:08x}\\n'\n",
    "    info += f'SR:   0x{sr:08x}\\n'\n",
    "    info += f'addr: 0x{hi:08x}{lo:08x}\\n'\n",
    "    info += f'len:  0x{sz:08x}\\n'\n",
    "    return info\n",
    "\n",
    "def dump_stream_regs(count_stream):\n",
    "    info = ''\n",
    "    lo    = count_stream.read(0x0)\n",
    "    hi    = count_stream.read(0x4)\n",
    "    info += f'StreamCfg: {lo} to {hi}\\n'\n",
    "    debug = count_stream.read(0xc)\n",
    "    info += f'TVALID: {(debug & (1 << 0)) >> 0} '\n",
    "    info += f'TLAST: {(debug & (1 << 1)) >> 1} '\n",
    "    info += f'TREADY: {(debug & (1 << 2)) >> 2}\\n'\n",
    "    info += f'counter_start: {(debug & (1 << 4)) >> 4}\\n'\n",
    "    info += f'read_pointer: {debug >> 16} '\n",
    "    info += f'tx_en: {(debug & (1 << 8)) >> 8}\\n'\n",
    "    return info\n",
    "\n",
    "\n",
    "def debug_dma(dma):\n",
    "    if dma.sendchannel is not None:\n",
    "        print('Send Channel', chan_status(dma.sendchannel))\n",
    "        print(dump_regs(dma, 0x0))\n",
    "    if dma.recvchannel is not None:\n",
    "        print('Recv Channel', chan_status(dma.recvchannel))\n",
    "        print(dump_regs(dma, 0x30))\n",
    "\n",
    "def debug_stream(count_stream):\n",
    "    print(dump_stream_regs(count_stream))\n",
    "    \n",
    "def debug_both(dma, count_stream):\n",
    "    debug_dma(dma)\n",
    "    debug_stream(count_stream)\n",
    "    "
   ]
  },
  {
   "cell_type": "code",
   "execution_count": 4,
   "id": "46157b68",
   "metadata": {},
   "outputs": [
    {
     "name": "stdout",
     "output_type": "stream",
     "text": [
      "Recv Channel Run:True Idle:False Err:False\n",
      "CR:   0x00011003\n",
      "SR:   0x00000000\n",
      "addr: 0x0000000000000000\n",
      "len:  0x00000000\n",
      "\n",
      "StreamCfg: 0 to 0\n",
      "TVALID: 0 TLAST: 1 TREADY: 1\n",
      "counter_start: 0\n",
      "read_pointer: 1023 tx_en: 0\n",
      "\n",
      "[0 0 0 0 0 0 0 0 0 0 0 0 0 0 0 0 0 0 0 0 0 0 0 0 0 0 0 0 0 0 0 0 0 0 0 0 0\n",
      " 0 0 0 0 0 0 0 0 0 0 0 0 0 0 0 0 0 0 0 0 0 0 0 0 0 0 0]\n",
      "Recv Channel Run:True Idle:False Err:False\n",
      "CR:   0x00011003\n",
      "SR:   0x00000000\n",
      "addr: 0x0000000000000000\n",
      "len:  0x00000000\n",
      "\n",
      "StreamCfg: 0 to 0\n",
      "TVALID: 0 TLAST: 1 TREADY: 1\n",
      "counter_start: 0\n",
      "read_pointer: 1023 tx_en: 0\n",
      "\n",
      "Recv Channel Run:True Idle:False Err:False\n",
      "CR:   0x00011003\n",
      "SR:   0x00000000\n",
      "addr: 0x0000000016849000\n",
      "len:  0x000000dc\n",
      "\n",
      "StreamCfg: 0 to 0\n",
      "TVALID: 0 TLAST: 1 TREADY: 1\n",
      "counter_start: 0\n",
      "read_pointer: 1023 tx_en: 0\n",
      "\n",
      "Recv Channel Run:True Idle:True Err:False\n",
      "CR:   0x00011003\n",
      "SR:   0x00001002\n",
      "addr: 0x0000000016849000\n",
      "len:  0x000000dc\n",
      "\n",
      "StreamCfg: 101 to 155\n",
      "TVALID: 0 TLAST: 0 TREADY: 1\n",
      "counter_start: 0\n",
      "read_pointer: 55 tx_en: 0\n",
      "\n",
      "Recv Channel Run:True Idle:True Err:False\n",
      "CR:   0x00011003\n",
      "SR:   0x00001002\n",
      "addr: 0x0000000016849000\n",
      "len:  0x000000dc\n",
      "\n",
      "StreamCfg: 101 to 155\n",
      "TVALID: 0 TLAST: 0 TREADY: 1\n",
      "counter_start: 0\n",
      "read_pointer: 55 tx_en: 0\n",
      "\n",
      "[102   0 104   0 106   0 108   0 110   0 112   0 114   0 116   0 118   0\n",
      " 120   0 122   0 124   0 126   0 128   0 130   0 132   0 134   0 136   0\n",
      " 138   0 140   0 142   0 144   0 146   0 148   0 150   0 152   0 154   0\n",
      " 155   0   0   0   0   0   0   0   0   0]\n"
     ]
    }
   ],
   "source": [
    "count = 55\n",
    "start = 101\n",
    "\n",
    "debug_dma(ol.axi_dma_0)\n",
    "debug_stream(ol.count_stream_test_0)\n",
    "dma_result = allocate(shape=(64,), dtype='u4')\n",
    "print(dma_result)\n",
    "debug_dma(ol.axi_dma_0)\n",
    "debug_stream(ol.count_stream_test_0)\n",
    "ol.axi_dma_0.recvchannel.transfer(dma_result, nbytes=count*4)\n",
    "debug_dma(ol.axi_dma_0)\n",
    "debug_stream(ol.count_stream_test_0)\n",
    "ol.count_stream_test_0.write(0x0, start)         # counter_lo\n",
    "ol.count_stream_test_0.write(0x4, start+count-1) # counter_hi\n",
    "ol.count_stream_test_0.write(0x8, 1)             # counter start\n",
    "debug_dma(ol.axi_dma_0)\n",
    "debug_stream(ol.count_stream_test_0)\n",
    "ol.axi_dma_0.recvchannel.wait()\n",
    "debug_dma(ol.axi_dma_0)\n",
    "debug_stream(ol.count_stream_test_0)\n",
    "print(dma_result)"
   ]
  },
  {
   "cell_type": "code",
   "execution_count": 5,
   "id": "ba1d6bea",
   "metadata": {},
   "outputs": [
    {
     "name": "stdout",
     "output_type": "stream",
     "text": [
      "Recv Channel Run:True Idle:True Err:False\n",
      "CR:   0x00011003\n",
      "SR:   0x00001002\n",
      "addr: 0x0000000016849000\n",
      "len:  0x000000dc\n",
      "\n",
      "StreamCfg: 101 to 155\n",
      "TVALID: 0 TLAST: 0 TREADY: 1\n",
      "counter_start: 0\n",
      "read_pointer: 55 tx_en: 0\n",
      "\n"
     ]
    }
   ],
   "source": [
    "debug_dma(ol.axi_dma_0)\n",
    "debug_stream(ol.count_stream_test_0)"
   ]
  },
  {
   "cell_type": "code",
   "execution_count": 6,
   "id": "b544291f",
   "metadata": {},
   "outputs": [
    {
     "data": {
      "text/plain": [
       "['__class__',\n",
       " '__delattr__',\n",
       " '__dict__',\n",
       " '__dir__',\n",
       " '__doc__',\n",
       " '__eq__',\n",
       " '__format__',\n",
       " '__ge__',\n",
       " '__getattribute__',\n",
       " '__gt__',\n",
       " '__hash__',\n",
       " '__init__',\n",
       " '__init_subclass__',\n",
       " '__le__',\n",
       " '__lt__',\n",
       " '__module__',\n",
       " '__ne__',\n",
       " '__new__',\n",
       " '__reduce__',\n",
       " '__reduce_ex__',\n",
       " '__repr__',\n",
       " '__setattr__',\n",
       " '__sizeof__',\n",
       " '__str__',\n",
       " '__subclasshook__',\n",
       " '__weakref__',\n",
       " '_active_buffer',\n",
       " '_align',\n",
       " '_clear_interrupt',\n",
       " '_dre',\n",
       " '_first_transfer',\n",
       " '_flush_before',\n",
       " '_interrupt',\n",
       " '_max_size',\n",
       " '_mmio',\n",
       " '_offset',\n",
       " '_tx_rx',\n",
       " 'error',\n",
       " 'idle',\n",
       " 'running',\n",
       " 'start',\n",
       " 'stop',\n",
       " 'transfer',\n",
       " 'transferred',\n",
       " 'wait',\n",
       " 'wait_async']"
      ]
     },
     "execution_count": 6,
     "metadata": {},
     "output_type": "execute_result"
    }
   ],
   "source": [
    "dir(ol.axi_dma_0.recvchannel)"
   ]
  },
  {
   "cell_type": "markdown",
   "id": "8f42e5aa",
   "metadata": {},
   "source": [
    "### Notes\n",
    "\n",
    "Any size seems to work correctly, now. But I only get half of the data? So weird. Is there some kind of strobing/throttling?\n",
    "\n",
    "Might wanna testbench count_stream_test_0 as well.\n",
    "\n",
    "### TODO\n",
    "\n",
    "* Expand DishSoap class to actually wrap this behavior out\n",
    "* ????\n",
    "* start working on the other side of the network sim again"
   ]
  }
 ],
 "metadata": {
  "kernelspec": {
   "display_name": "Python 3",
   "language": "python",
   "name": "python3"
  },
  "language_info": {
   "codemirror_mode": {
    "name": "ipython",
    "version": 3
   },
   "file_extension": ".py",
   "mimetype": "text/x-python",
   "name": "python",
   "nbconvert_exporter": "python",
   "pygments_lexer": "ipython3",
   "version": "3.8.2"
  }
 },
 "nbformat": 4,
 "nbformat_minor": 5
}
