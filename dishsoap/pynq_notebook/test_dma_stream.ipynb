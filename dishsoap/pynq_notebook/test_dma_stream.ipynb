{
 "cells": [
  {
   "cell_type": "code",
   "execution_count": 1,
   "id": "940b56e2",
   "metadata": {},
   "outputs": [
    {
     "data": {
      "application/javascript": [
       "\n",
       "try {\n",
       "require(['notebook/js/codecell'], function(codecell) {\n",
       "  codecell.CodeCell.options_default.highlight_modes[\n",
       "      'magic_text/x-csrc'] = {'reg':[/^%%microblaze/]};\n",
       "  Jupyter.notebook.events.one('kernel_ready.Kernel', function(){\n",
       "      Jupyter.notebook.get_cells().map(function(cell){\n",
       "          if (cell.cell_type == 'code'){ cell.auto_highlight(); } }) ;\n",
       "  });\n",
       "});\n",
       "} catch (e) {};\n"
      ]
     },
     "metadata": {},
     "output_type": "display_data"
    },
    {
     "data": {
      "application/javascript": [
       "\n",
       "try {\n",
       "require(['notebook/js/codecell'], function(codecell) {\n",
       "  codecell.CodeCell.options_default.highlight_modes[\n",
       "      'magic_text/x-csrc'] = {'reg':[/^%%pybind11/]};\n",
       "  Jupyter.notebook.events.one('kernel_ready.Kernel', function(){\n",
       "      Jupyter.notebook.get_cells().map(function(cell){\n",
       "          if (cell.cell_type == 'code'){ cell.auto_highlight(); } }) ;\n",
       "  });\n",
       "});\n",
       "} catch (e) {};\n"
      ]
     },
     "metadata": {},
     "output_type": "display_data"
    }
   ],
   "source": [
    "import pynq\n",
    "from dishsoap import CountStreamTest, TestDmaStreamOverlay\n",
    "\n",
    "ol = pynq.Overlay('test_dma_stream.bit', download=True)"
   ]
  },
  {
   "cell_type": "code",
   "execution_count": 2,
   "id": "2fd54b71",
   "metadata": {},
   "outputs": [],
   "source": [
    "import pprint\n",
    "pp = pprint.PrettyPrinter(indent=1, width=80, depth=3)\n",
    "#pp.pprint(ol.ip_dict['axi_dma_0'])\n",
    "#pp.pprint(ol.ip_dict['count_stream_test_0'])"
   ]
  },
  {
   "cell_type": "code",
   "execution_count": 19,
   "id": "bee6e7f0",
   "metadata": {},
   "outputs": [],
   "source": [
    "from pynq import allocate # for DMA interactions\n",
    "\n",
    "def chan_status(chan):\n",
    "    if chan is None:\n",
    "        return ''\n",
    "    \n",
    "    r = chan.running\n",
    "    i = chan.idle\n",
    "    e = chan.error\n",
    "\n",
    "    return f'Run:{r} Idle:{i} Err:{e}'\n",
    "\n",
    "def dump_regs(dma, offset):\n",
    "    info = ''\n",
    "    cr = dma.mmio.read(offset + 0x0)\n",
    "    sr = dma.mmio.read(offset + 0x4)\n",
    "    lo = dma.mmio.read(offset + 0x18)\n",
    "    hi = dma.mmio.read(offset + 0x1c)\n",
    "    sz = dma.mmio.read(offset + 0x28)\n",
    "    info += f'CR:   0x{cr:08x}\\n'\n",
    "    info += f'SR:   0x{sr:08x}\\n'\n",
    "    info += f'addr: 0x{hi:08x}{lo:08x}\\n'\n",
    "    info += f'len:  0x{sz:08x}\\n'\n",
    "    return info\n",
    "\n",
    "def dump_stream_regs(count_stream):\n",
    "    info = ''\n",
    "    lo    = count_stream.read(0x0)\n",
    "    hi    = count_stream.read(0x4)\n",
    "    info += f'StreamCfg: {lo} to {hi}\\n'\n",
    "    debug = count_stream.read(0xc)\n",
    "    info += f'TVALID: {(debug & (1 << 0)) >> 0} '\n",
    "    info += f'TLAST: {(debug & (1 << 1)) >> 1} '\n",
    "    info += f'TREADY: {(debug & (1 << 2)) >> 2}\\n'\n",
    "    info += f'counter_start: {(debug & (1 << 4)) >> 4}\\n'\n",
    "    info += f'tx_done: {(debug & (1 << 8)) >> 8} '\n",
    "    info += f'tx_en: {(debug & (1 << 9)) >> 9}\\n'\n",
    "    info += f'read_pointer: {debug >> 16}\\n'\n",
    "    return info\n",
    "\n",
    "\n",
    "def debug_dma(dma):\n",
    "    if dma.sendchannel is not None:\n",
    "        print('Send Channel', chan_status(dma.sendchannel))\n",
    "        print(dump_regs(dma, 0x0))\n",
    "    if dma.recvchannel is not None:\n",
    "        print('Recv Channel', chan_status(dma.recvchannel))\n",
    "        print(dump_regs(dma, 0x30))\n",
    "\n",
    "def debug_stream(count_stream):\n",
    "    print(dump_stream_regs(count_stream))\n",
    "    \n",
    "def debug_both(dma, count_stream):\n",
    "    debug_dma(dma)\n",
    "    debug_stream(count_stream)\n",
    "    "
   ]
  },
  {
   "cell_type": "code",
   "execution_count": 4,
   "id": "46157b68",
   "metadata": {},
   "outputs": [
    {
     "name": "stdout",
     "output_type": "stream",
     "text": [
      "Recv Channel Run:True Idle:False Err:False\n",
      "CR:   0x00011003\n",
      "SR:   0x00000000\n",
      "addr: 0x0000000000000000\n",
      "len:  0x00000000\n",
      "\n",
      "StreamCfg: 0 to 0, debug:00000104\n",
      "[0 0 0 0 0 0 0 0 0 0 0 0 0 0 0 0 0 0 0 0 0 0 0 0 0 0 0 0 0 0 0 0]\n",
      "Recv Channel Run:True Idle:False Err:False\n",
      "CR:   0x00011003\n",
      "SR:   0x00000000\n",
      "addr: 0x0000000000000000\n",
      "len:  0x00000000\n",
      "\n",
      "StreamCfg: 0 to 0, debug:00000104\n",
      "Recv Channel Run:True Idle:False Err:False\n",
      "CR:   0x00011003\n",
      "SR:   0x00000000\n",
      "addr: 0x0000000016849000\n",
      "len:  0x00000050\n",
      "\n",
      "StreamCfg: 0 to 0, debug:00000104\n",
      "Recv Channel Run:True Idle:False Err:False\n",
      "CR:   0x00011003\n",
      "SR:   0x00000000\n",
      "addr: 0x0000000016849000\n",
      "len:  0x00000050\n",
      "\n",
      "StreamCfg: 10 to 29, debug:00010104\n"
     ]
    },
    {
     "ename": "KeyboardInterrupt",
     "evalue": "",
     "output_type": "error",
     "traceback": [
      "\u001b[0;31m---------------------------------------------------------------------------\u001b[0m",
      "\u001b[0;31mKeyboardInterrupt\u001b[0m                         Traceback (most recent call last)",
      "\u001b[0;32m<ipython-input-4-36f81f411d00>\u001b[0m in \u001b[0;36m<module>\u001b[0;34m\u001b[0m\n\u001b[1;32m     16\u001b[0m \u001b[0mdebug_dma\u001b[0m\u001b[0;34m(\u001b[0m\u001b[0mol\u001b[0m\u001b[0;34m.\u001b[0m\u001b[0maxi_dma_0\u001b[0m\u001b[0;34m)\u001b[0m\u001b[0;34m\u001b[0m\u001b[0;34m\u001b[0m\u001b[0m\n\u001b[1;32m     17\u001b[0m \u001b[0mdebug_stream\u001b[0m\u001b[0;34m(\u001b[0m\u001b[0mol\u001b[0m\u001b[0;34m.\u001b[0m\u001b[0mcount_stream_test_0\u001b[0m\u001b[0;34m)\u001b[0m\u001b[0;34m\u001b[0m\u001b[0;34m\u001b[0m\u001b[0m\n\u001b[0;32m---> 18\u001b[0;31m \u001b[0mol\u001b[0m\u001b[0;34m.\u001b[0m\u001b[0maxi_dma_0\u001b[0m\u001b[0;34m.\u001b[0m\u001b[0mrecvchannel\u001b[0m\u001b[0;34m.\u001b[0m\u001b[0mwait\u001b[0m\u001b[0;34m(\u001b[0m\u001b[0;34m)\u001b[0m\u001b[0;34m\u001b[0m\u001b[0;34m\u001b[0m\u001b[0m\n\u001b[0m\u001b[1;32m     19\u001b[0m \u001b[0mdebug_dma\u001b[0m\u001b[0;34m(\u001b[0m\u001b[0mol\u001b[0m\u001b[0;34m.\u001b[0m\u001b[0maxi_dma_0\u001b[0m\u001b[0;34m)\u001b[0m\u001b[0;34m\u001b[0m\u001b[0;34m\u001b[0m\u001b[0m\n\u001b[1;32m     20\u001b[0m \u001b[0mdebug_stream\u001b[0m\u001b[0;34m(\u001b[0m\u001b[0mol\u001b[0m\u001b[0;34m.\u001b[0m\u001b[0mcount_stream_test_0\u001b[0m\u001b[0;34m)\u001b[0m\u001b[0;34m\u001b[0m\u001b[0;34m\u001b[0m\u001b[0m\n",
      "\u001b[0;32m/usr/local/share/pynq-venv/lib/python3.8/site-packages/pynq/lib/dma.py\u001b[0m in \u001b[0;36mwait\u001b[0;34m(self)\u001b[0m\n\u001b[1;32m    206\u001b[0m         \u001b[0;32mwhile\u001b[0m \u001b[0;32mTrue\u001b[0m\u001b[0;34m:\u001b[0m\u001b[0;34m\u001b[0m\u001b[0;34m\u001b[0m\u001b[0m\n\u001b[1;32m    207\u001b[0m             \u001b[0merror\u001b[0m \u001b[0;34m=\u001b[0m \u001b[0mself\u001b[0m\u001b[0;34m.\u001b[0m\u001b[0m_mmio\u001b[0m\u001b[0;34m.\u001b[0m\u001b[0mread\u001b[0m\u001b[0;34m(\u001b[0m\u001b[0mself\u001b[0m\u001b[0;34m.\u001b[0m\u001b[0m_offset\u001b[0m \u001b[0;34m+\u001b[0m \u001b[0;36m4\u001b[0m\u001b[0;34m)\u001b[0m\u001b[0;34m\u001b[0m\u001b[0;34m\u001b[0m\u001b[0m\n\u001b[0;32m--> 208\u001b[0;31m             \u001b[0;32mif\u001b[0m \u001b[0mself\u001b[0m\u001b[0;34m.\u001b[0m\u001b[0merror\u001b[0m\u001b[0;34m:\u001b[0m\u001b[0;34m\u001b[0m\u001b[0;34m\u001b[0m\u001b[0m\n\u001b[0m\u001b[1;32m    209\u001b[0m                 \u001b[0;32mif\u001b[0m \u001b[0merror\u001b[0m \u001b[0;34m&\u001b[0m \u001b[0;36m0x10\u001b[0m\u001b[0;34m:\u001b[0m\u001b[0;34m\u001b[0m\u001b[0;34m\u001b[0m\u001b[0m\n\u001b[1;32m    210\u001b[0m                     raise RuntimeError(\n",
      "\u001b[0;32m/usr/local/share/pynq-venv/lib/python3.8/site-packages/pynq/lib/dma.py\u001b[0m in \u001b[0;36merror\u001b[0;34m(self)\u001b[0m\n\u001b[1;32m    115\u001b[0m         \"\"\"True if DMA engine is in an error state\n\u001b[1;32m    116\u001b[0m         \"\"\"\n\u001b[0;32m--> 117\u001b[0;31m         \u001b[0;32mreturn\u001b[0m \u001b[0mself\u001b[0m\u001b[0;34m.\u001b[0m\u001b[0m_mmio\u001b[0m\u001b[0;34m.\u001b[0m\u001b[0mread\u001b[0m\u001b[0;34m(\u001b[0m\u001b[0mself\u001b[0m\u001b[0;34m.\u001b[0m\u001b[0m_offset\u001b[0m \u001b[0;34m+\u001b[0m \u001b[0;36m4\u001b[0m\u001b[0;34m)\u001b[0m \u001b[0;34m&\u001b[0m \u001b[0;36m0x70\u001b[0m \u001b[0;34m!=\u001b[0m \u001b[0;36m0x0\u001b[0m\u001b[0;34m\u001b[0m\u001b[0;34m\u001b[0m\u001b[0m\n\u001b[0m\u001b[1;32m    118\u001b[0m \u001b[0;34m\u001b[0m\u001b[0m\n\u001b[1;32m    119\u001b[0m     \u001b[0;32mdef\u001b[0m \u001b[0mstart\u001b[0m\u001b[0;34m(\u001b[0m\u001b[0mself\u001b[0m\u001b[0;34m)\u001b[0m\u001b[0;34m:\u001b[0m\u001b[0;34m\u001b[0m\u001b[0;34m\u001b[0m\u001b[0m\n",
      "\u001b[0;32m/usr/local/share/pynq-venv/lib/python3.8/site-packages/pynq/mmio.py\u001b[0m in \u001b[0;36mread\u001b[0;34m(self, offset, length, word_order)\u001b[0m\n\u001b[1;32m    153\u001b[0m                 \u001b[0;32mreturn\u001b[0m \u001b[0;34m(\u001b[0m\u001b[0mlsb\u001b[0m \u001b[0;34m<<\u001b[0m \u001b[0;36m32\u001b[0m\u001b[0;34m)\u001b[0m \u001b[0;34m+\u001b[0m \u001b[0mint\u001b[0m\u001b[0;34m(\u001b[0m\u001b[0mself\u001b[0m\u001b[0;34m.\u001b[0m\u001b[0marray\u001b[0m\u001b[0;34m[\u001b[0m\u001b[0midx\u001b[0m\u001b[0;34m+\u001b[0m\u001b[0;36m1\u001b[0m\u001b[0;34m]\u001b[0m\u001b[0;34m)\u001b[0m\u001b[0;34m\u001b[0m\u001b[0;34m\u001b[0m\u001b[0m\n\u001b[1;32m    154\u001b[0m         \u001b[0;32melse\u001b[0m\u001b[0;34m:\u001b[0m\u001b[0;34m\u001b[0m\u001b[0;34m\u001b[0m\u001b[0m\n\u001b[0;32m--> 155\u001b[0;31m             \u001b[0;32mreturn\u001b[0m \u001b[0mlsb\u001b[0m \u001b[0;34m&\u001b[0m \u001b[0;34m(\u001b[0m\u001b[0;34m(\u001b[0m\u001b[0;36m2\u001b[0m\u001b[0;34m**\u001b[0m\u001b[0;34m(\u001b[0m\u001b[0;36m8\u001b[0m\u001b[0;34m*\u001b[0m\u001b[0mlength\u001b[0m\u001b[0;34m)\u001b[0m\u001b[0;34m)\u001b[0m \u001b[0;34m-\u001b[0m \u001b[0;36m1\u001b[0m\u001b[0;34m)\u001b[0m\u001b[0;34m\u001b[0m\u001b[0;34m\u001b[0m\u001b[0m\n\u001b[0m\u001b[1;32m    156\u001b[0m \u001b[0;34m\u001b[0m\u001b[0m\n\u001b[1;32m    157\u001b[0m     \u001b[0;32mdef\u001b[0m \u001b[0mwrite_mm\u001b[0m\u001b[0;34m(\u001b[0m\u001b[0mself\u001b[0m\u001b[0;34m,\u001b[0m \u001b[0moffset\u001b[0m\u001b[0;34m,\u001b[0m \u001b[0mdata\u001b[0m\u001b[0;34m)\u001b[0m\u001b[0;34m:\u001b[0m\u001b[0;34m\u001b[0m\u001b[0;34m\u001b[0m\u001b[0m\n",
      "\u001b[0;31mKeyboardInterrupt\u001b[0m: "
     ]
    }
   ],
   "source": [
    "count = 20\n",
    "start = 10\n",
    "\n",
    "debug_dma(ol.axi_dma_0)\n",
    "debug_stream(ol.count_stream_test_0)\n",
    "dma_result = allocate(shape=(32,), dtype='u4')\n",
    "print(dma_result)\n",
    "debug_dma(ol.axi_dma_0)\n",
    "debug_stream(ol.count_stream_test_0)\n",
    "ol.axi_dma_0.recvchannel.transfer(dma_result, nbytes=count*4)\n",
    "debug_dma(ol.axi_dma_0)\n",
    "debug_stream(ol.count_stream_test_0)\n",
    "ol.count_stream_test_0.write(0x0, start)         # counter_lo\n",
    "ol.count_stream_test_0.write(0x4, start+count-1) # counter_hi\n",
    "ol.count_stream_test_0.write(0x8, 1)             # counter start\n",
    "debug_dma(ol.axi_dma_0)\n",
    "debug_stream(ol.count_stream_test_0)\n",
    "ol.axi_dma_0.recvchannel.wait()\n",
    "debug_dma(ol.axi_dma_0)\n",
    "debug_stream(ol.count_stream_test_0)\n",
    "print(dma_result)"
   ]
  },
  {
   "cell_type": "code",
   "execution_count": 20,
   "id": "b942fa4f",
   "metadata": {},
   "outputs": [
    {
     "name": "stdout",
     "output_type": "stream",
     "text": [
      "[0 0 0 0 0]\n",
      "StreamCfg: 200 to 204\n",
      "TVALID: 0 TLAST: 0 TREADY: 4\n",
      "counter_start: 0\n",
      "tx_done: 256 tx_en: 0\n",
      "read_pointer: 5\n",
      "\n",
      "Recv Channel Run:True Idle:False Err:False\n",
      "CR:   0x00011003\n",
      "SR:   0x00001000\n",
      "addr: 0x000000001684d000\n",
      "len:  0x00000014\n",
      "\n",
      "StreamCfg: 200 to 204\n",
      "TVALID: 0 TLAST: 0 TREADY: 4\n",
      "counter_start: 0\n",
      "tx_done: 256 tx_en: 0\n",
      "read_pointer: 5\n",
      "\n"
     ]
    },
    {
     "ename": "RuntimeError",
     "evalue": "DMA channel not idle",
     "output_type": "error",
     "traceback": [
      "\u001b[0;31m---------------------------------------------------------------------------\u001b[0m",
      "\u001b[0;31mRuntimeError\u001b[0m                              Traceback (most recent call last)",
      "\u001b[0;32m<ipython-input-20-e310c73acc45>\u001b[0m in \u001b[0;36m<module>\u001b[0;34m\u001b[0m\n\u001b[1;32m     10\u001b[0m \u001b[0mdebug_dma\u001b[0m\u001b[0;34m(\u001b[0m\u001b[0mol\u001b[0m\u001b[0;34m.\u001b[0m\u001b[0maxi_dma_0\u001b[0m\u001b[0;34m)\u001b[0m\u001b[0;34m\u001b[0m\u001b[0;34m\u001b[0m\u001b[0m\n\u001b[1;32m     11\u001b[0m \u001b[0mdebug_stream\u001b[0m\u001b[0;34m(\u001b[0m\u001b[0mol\u001b[0m\u001b[0;34m.\u001b[0m\u001b[0mcount_stream_test_0\u001b[0m\u001b[0;34m)\u001b[0m\u001b[0;34m\u001b[0m\u001b[0;34m\u001b[0m\u001b[0m\n\u001b[0;32m---> 12\u001b[0;31m \u001b[0mol\u001b[0m\u001b[0;34m.\u001b[0m\u001b[0maxi_dma_0\u001b[0m\u001b[0;34m.\u001b[0m\u001b[0mrecvchannel\u001b[0m\u001b[0;34m.\u001b[0m\u001b[0mtransfer\u001b[0m\u001b[0;34m(\u001b[0m\u001b[0mdma_result2\u001b[0m\u001b[0;34m)\u001b[0m\u001b[0;34m\u001b[0m\u001b[0;34m\u001b[0m\u001b[0m\n\u001b[0m\u001b[1;32m     13\u001b[0m \u001b[0mdebug_dma\u001b[0m\u001b[0;34m(\u001b[0m\u001b[0mol\u001b[0m\u001b[0;34m.\u001b[0m\u001b[0maxi_dma_0\u001b[0m\u001b[0;34m)\u001b[0m\u001b[0;34m\u001b[0m\u001b[0;34m\u001b[0m\u001b[0m\n\u001b[1;32m     14\u001b[0m \u001b[0mdebug_stream\u001b[0m\u001b[0;34m(\u001b[0m\u001b[0mol\u001b[0m\u001b[0;34m.\u001b[0m\u001b[0mcount_stream_test_0\u001b[0m\u001b[0;34m)\u001b[0m\u001b[0;34m\u001b[0m\u001b[0;34m\u001b[0m\u001b[0m\n",
      "\u001b[0;32m/usr/local/share/pynq-venv/lib/python3.8/site-packages/pynq/lib/dma.py\u001b[0m in \u001b[0;36mtransfer\u001b[0;34m(self, array, start, nbytes)\u001b[0m\n\u001b[1;32m    172\u001b[0m             \u001b[0;32mraise\u001b[0m \u001b[0mRuntimeError\u001b[0m\u001b[0;34m(\u001b[0m\u001b[0;34m'DMA channel not started'\u001b[0m\u001b[0;34m)\u001b[0m\u001b[0;34m\u001b[0m\u001b[0;34m\u001b[0m\u001b[0m\n\u001b[1;32m    173\u001b[0m         \u001b[0;32mif\u001b[0m \u001b[0;32mnot\u001b[0m \u001b[0mself\u001b[0m\u001b[0;34m.\u001b[0m\u001b[0midle\u001b[0m \u001b[0;32mand\u001b[0m \u001b[0;32mnot\u001b[0m \u001b[0mself\u001b[0m\u001b[0;34m.\u001b[0m\u001b[0m_first_transfer\u001b[0m\u001b[0;34m:\u001b[0m\u001b[0;34m\u001b[0m\u001b[0;34m\u001b[0m\u001b[0m\n\u001b[0;32m--> 174\u001b[0;31m             \u001b[0;32mraise\u001b[0m \u001b[0mRuntimeError\u001b[0m\u001b[0;34m(\u001b[0m\u001b[0;34m'DMA channel not idle'\u001b[0m\u001b[0;34m)\u001b[0m\u001b[0;34m\u001b[0m\u001b[0;34m\u001b[0m\u001b[0m\n\u001b[0m\u001b[1;32m    175\u001b[0m         \u001b[0;32mif\u001b[0m \u001b[0mnbytes\u001b[0m \u001b[0;34m==\u001b[0m \u001b[0;36m0\u001b[0m\u001b[0;34m:\u001b[0m\u001b[0;34m\u001b[0m\u001b[0;34m\u001b[0m\u001b[0m\n\u001b[1;32m    176\u001b[0m             \u001b[0mnbytes\u001b[0m \u001b[0;34m=\u001b[0m \u001b[0marray\u001b[0m\u001b[0;34m.\u001b[0m\u001b[0mnbytes\u001b[0m \u001b[0;34m-\u001b[0m \u001b[0mstart\u001b[0m\u001b[0;34m\u001b[0m\u001b[0;34m\u001b[0m\u001b[0m\n",
      "\u001b[0;31mRuntimeError\u001b[0m: DMA channel not idle"
     ]
    }
   ],
   "source": [
    "count = 5\n",
    "start = 200\n",
    "\n",
    "dma_result2 = allocate(shape=(count,), dtype='u4')\n",
    "print(dma_result2)\n",
    "debug_stream(ol.count_stream_test_0)\n",
    "ol.count_stream_test_0.write(0x0, start)         # counter_lo\n",
    "ol.count_stream_test_0.write(0x4, start+count-1) # counter_hi\n",
    "ol.count_stream_test_0.write(0x8, 1)             # counter start\n",
    "debug_dma(ol.axi_dma_0)\n",
    "debug_stream(ol.count_stream_test_0)\n",
    "ol.axi_dma_0.recvchannel.transfer(dma_result2)\n",
    "debug_dma(ol.axi_dma_0)\n",
    "debug_stream(ol.count_stream_test_0)\n",
    "ol.axi_dma_0.recvchannel.wait()\n",
    "print(dma_result2)\n",
    "debug_dma(ol.axi_dma_0)\n",
    "debug_stream(ol.count_stream_test_0)"
   ]
  },
  {
   "cell_type": "code",
   "execution_count": 14,
   "id": "ba1d6bea",
   "metadata": {},
   "outputs": [
    {
     "name": "stdout",
     "output_type": "stream",
     "text": [
      "Recv Channel Run:True Idle:False Err:False\n",
      "CR:   0x00011003\n",
      "SR:   0x00001000\n",
      "addr: 0x000000001684d000\n",
      "len:  0x00000014\n",
      "\n",
      "StreamCfg: 200 to 204, debug:00050104\n"
     ]
    }
   ],
   "source": [
    "debug_dma(ol.axi_dma_0)\n",
    "debug_stream(ol.count_stream_test_0)"
   ]
  },
  {
   "cell_type": "code",
   "execution_count": null,
   "id": "b544291f",
   "metadata": {},
   "outputs": [],
   "source": [
    "dir(ol.axi_dma_0.recvchannel)"
   ]
  },
  {
   "cell_type": "markdown",
   "id": "8f42e5aa",
   "metadata": {},
   "source": [
    "### Notes\n",
    "\n",
    "I think we need to enable interrupts on the DMA. Other things seem to be working (like the bit clearing in register 0x8)\n",
    "\n",
    "Might wanna test the other pieces of count_stream_test_0 as well."
   ]
  }
 ],
 "metadata": {
  "kernelspec": {
   "display_name": "Python 3",
   "language": "python",
   "name": "python3"
  },
  "language_info": {
   "codemirror_mode": {
    "name": "ipython",
    "version": 3
   },
   "file_extension": ".py",
   "mimetype": "text/x-python",
   "name": "python",
   "nbconvert_exporter": "python",
   "pygments_lexer": "ipython3",
   "version": "3.8.2"
  }
 },
 "nbformat": 4,
 "nbformat_minor": 5
}
