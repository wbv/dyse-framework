{
 "cells": [
  {
   "cell_type": "code",
   "execution_count": 1,
   "id": "940b56e2",
   "metadata": {},
   "outputs": [
    {
     "data": {
      "application/javascript": [
       "\n",
       "try {\n",
       "require(['notebook/js/codecell'], function(codecell) {\n",
       "  codecell.CodeCell.options_default.highlight_modes[\n",
       "      'magic_text/x-csrc'] = {'reg':[/^%%microblaze/]};\n",
       "  Jupyter.notebook.events.one('kernel_ready.Kernel', function(){\n",
       "      Jupyter.notebook.get_cells().map(function(cell){\n",
       "          if (cell.cell_type == 'code'){ cell.auto_highlight(); } }) ;\n",
       "  });\n",
       "});\n",
       "} catch (e) {};\n"
      ]
     },
     "metadata": {},
     "output_type": "display_data"
    },
    {
     "data": {
      "application/javascript": [
       "\n",
       "try {\n",
       "require(['notebook/js/codecell'], function(codecell) {\n",
       "  codecell.CodeCell.options_default.highlight_modes[\n",
       "      'magic_text/x-csrc'] = {'reg':[/^%%pybind11/]};\n",
       "  Jupyter.notebook.events.one('kernel_ready.Kernel', function(){\n",
       "      Jupyter.notebook.get_cells().map(function(cell){\n",
       "          if (cell.cell_type == 'code'){ cell.auto_highlight(); } }) ;\n",
       "  });\n",
       "});\n",
       "} catch (e) {};\n"
      ]
     },
     "metadata": {},
     "output_type": "display_data"
    }
   ],
   "source": [
    "import pynq\n",
    "from dishsoap import StreamController, TestDmaStreamOverlay\n",
    "streamer = TestDmaStreamOverlay()"
   ]
  },
  {
   "cell_type": "code",
   "execution_count": 2,
   "id": "798bac7e",
   "metadata": {},
   "outputs": [
    {
     "name": "stdout",
     "output_type": "stream",
     "text": [
      "[  5   6   7   8   9  10  11  12  13  14  15  16  17  18  19  20  21  22\n",
      "  23  24  25  26  27  28  29  30  31  32  33  34  35  36  37  38  39  40\n",
      "  41  42  43  44  45  46  47  48  49  50  51  52  53  54  55  56  57  58\n",
      "  59  60  61  62  63  64  65  66  67  68  69  70  71  72  73  74  75  76\n",
      "  77  78  79  80  81  82  83  84  85  86  87  88  89  90  91  92  93  94\n",
      "  95  96  97  98  99 100 101 102 103 104 105 106 107 108 109 110 111 112\n",
      " 113 114 115 116 117 118 119 120 121 122 123 124 125 126 127 128 129]\n"
     ]
    }
   ],
   "source": [
    "results = pynq.allocate(shape=(125,), dtype='u8')\n",
    "streamer.fill_buffer(5, results)\n",
    "print(results)"
   ]
  },
  {
   "cell_type": "markdown",
   "id": "bc6b025e",
   "metadata": {},
   "source": [
    "## Benchmark"
   ]
  },
  {
   "cell_type": "code",
   "execution_count": 3,
   "id": "894217f2",
   "metadata": {},
   "outputs": [
    {
     "name": "stdout",
     "output_type": "stream",
     "text": [
      "Size:            1  Iters:      1  alloc:   0.031467s  fill:   0.000894s  total:   0.032361s  \n",
      "Size:            1  Iters:     10  alloc:   0.035828s  fill:   0.005556s  total:   0.041384s  \n",
      "Size:            1  Iters:    100  alloc:   0.036016s  fill:   0.049011s  total:   0.085027s  \n",
      "Size:            1  Iters:  1,000  alloc:   0.034850s  fill:   0.488341s  total:   0.523191s  \n",
      "Size:            1  Iters: 10,000  alloc:   0.035284s  fill:   4.725627s  total:   4.760911s  \n",
      "Size:            2  Iters:      1  alloc:   0.035925s  fill:   0.000788s  total:   0.036713s  \n",
      "Size:            2  Iters:     10  alloc:   0.036231s  fill:   0.005245s  total:   0.041476s  \n",
      "Size:            2  Iters:    100  alloc:   0.035352s  fill:   0.049049s  total:   0.084401s  \n",
      "Size:            2  Iters:  1,000  alloc:   0.039369s  fill:   0.474272s  total:   0.513641s  \n",
      "Size:            2  Iters: 10,000  alloc:   0.035377s  fill:   4.701771s  total:   4.737148s  \n",
      "Size:            4  Iters:      1  alloc:   0.035688s  fill:   0.000731s  total:   0.036420s  \n",
      "Size:            4  Iters:     10  alloc:   0.036925s  fill:   0.005459s  total:   0.042384s  \n",
      "Size:            4  Iters:    100  alloc:   0.035038s  fill:   0.048462s  total:   0.083501s  \n",
      "Size:            4  Iters:  1,000  alloc:   0.034655s  fill:   0.482050s  total:   0.516706s  \n",
      "Size:            4  Iters: 10,000  alloc:   0.035682s  fill:   4.698462s  total:   4.734144s  \n",
      "Size:            8  Iters:      1  alloc:   0.036698s  fill:   0.000751s  total:   0.037448s  \n",
      "Size:            8  Iters:     10  alloc:   0.031670s  fill:   0.005328s  total:   0.036998s  \n",
      "Size:            8  Iters:    100  alloc:   0.035094s  fill:   0.049693s  total:   0.084788s  \n",
      "Size:            8  Iters:  1,000  alloc:   0.035105s  fill:   0.487593s  total:   0.522697s  \n",
      "Size:            8  Iters: 10,000  alloc:   0.035722s  fill:   4.762396s  total:   4.798118s  \n",
      "Size:           16  Iters:      1  alloc:   0.036978s  fill:   0.000755s  total:   0.037733s  \n",
      "Size:           16  Iters:     10  alloc:   0.036725s  fill:   0.006046s  total:   0.042771s  \n",
      "Size:           16  Iters:    100  alloc:   0.033817s  fill:   0.048491s  total:   0.082308s  \n",
      "Size:           16  Iters:  1,000  alloc:   0.044739s  fill:   0.475933s  total:   0.520673s  \n",
      "Size:           16  Iters: 10,000  alloc:   0.036040s  fill:   4.781826s  total:   4.817866s  \n",
      "Size:           32  Iters:      1  alloc:   0.036037s  fill:   0.000796s  total:   0.036832s  \n",
      "Size:           32  Iters:     10  alloc:   0.038394s  fill:   0.005309s  total:   0.043703s  \n",
      "Size:           32  Iters:    100  alloc:   0.035488s  fill:   0.049172s  total:   0.084660s  \n",
      "Size:           32  Iters:  1,000  alloc:   0.042677s  fill:   0.480299s  total:   0.522976s  \n",
      "Size:           32  Iters: 10,000  alloc:   0.036119s  fill:   4.753339s  total:   4.789457s  \n",
      "Size:           64  Iters:      1  alloc:   0.036030s  fill:   0.000840s  total:   0.036870s  \n",
      "Size:           64  Iters:     10  alloc:   0.035706s  fill:   0.005717s  total:   0.041423s  \n",
      "Size:           64  Iters:    100  alloc:   0.038030s  fill:   0.048059s  total:   0.086089s  \n",
      "Size:           64  Iters:  1,000  alloc:   0.042068s  fill:   0.478608s  total:   0.520677s  \n",
      "Size:           64  Iters: 10,000  alloc:   0.035538s  fill:   4.788079s  total:   4.823617s  \n",
      "Size:          128  Iters:      1  alloc:   0.040323s  fill:   0.000699s  total:   0.041023s  \n",
      "Size:          128  Iters:     10  alloc:   0.035219s  fill:   0.006392s  total:   0.041611s  \n",
      "Size:          128  Iters:    100  alloc:   0.035227s  fill:   0.047846s  total:   0.083073s  \n",
      "Size:          128  Iters:  1,000  alloc:   0.041047s  fill:   0.479971s  total:   0.521018s  \n",
      "Size:          128  Iters: 10,000  alloc:   0.035719s  fill:   4.763859s  total:   4.799578s  \n",
      "Size:          256  Iters:      1  alloc:   0.036632s  fill:   0.000753s  total:   0.037385s  \n",
      "Size:          256  Iters:     10  alloc:   0.036131s  fill:   0.005323s  total:   0.041454s  \n",
      "Size:          256  Iters:    100  alloc:   0.036817s  fill:   0.048467s  total:   0.085284s  \n",
      "Size:          256  Iters:  1,000  alloc:   0.034833s  fill:   0.480032s  total:   0.514865s  \n",
      "Size:          256  Iters: 10,000  alloc:   0.037358s  fill:   4.735401s  total:   4.772759s  \n",
      "Size:          512  Iters:      1  alloc:   0.035846s  fill:   0.000755s  total:   0.036602s  \n",
      "Size:          512  Iters:     10  alloc:   0.035997s  fill:   0.006401s  total:   0.042398s  \n",
      "Size:          512  Iters:    100  alloc:   0.037504s  fill:   0.048260s  total:   0.085763s  \n",
      "Size:          512  Iters:  1,000  alloc:   0.042696s  fill:   0.476619s  total:   0.519315s  \n",
      "Size:          512  Iters: 10,000  alloc:   0.032257s  fill:   4.787843s  total:   4.820100s  \n",
      "Size:        1,024  Iters:      1  alloc:   0.036844s  fill:   0.000733s  total:   0.037577s  \n",
      "Size:        1,024  Iters:     10  alloc:   0.032789s  fill:   0.006270s  total:   0.039059s  \n",
      "Size:        1,024  Iters:    100  alloc:   0.035450s  fill:   0.050701s  total:   0.086150s  \n",
      "Size:        1,024  Iters:  1,000  alloc:   0.035448s  fill:   0.478652s  total:   0.514100s  \n",
      "Size:        1,024  Iters: 10,000  alloc:   0.040869s  fill:   4.740064s  total:   4.780932s  \n",
      "Size:        2,048  Iters:      1  alloc:   0.036435s  fill:   0.000739s  total:   0.037174s  \n",
      "Size:        2,048  Iters:     10  alloc:   0.035651s  fill:   0.005307s  total:   0.040958s  \n",
      "Size:        2,048  Iters:    100  alloc:   0.037102s  fill:   0.049386s  total:   0.086488s  \n",
      "Size:        2,048  Iters:  1,000  alloc:   0.036941s  fill:   0.489391s  total:   0.526332s  \n",
      "Size:        2,048  Iters: 10,000  alloc:   0.035660s  fill:   4.832843s  total:   4.868503s  \n",
      "Size:        4,096  Iters:      1  alloc:   0.036978s  fill:   0.000864s  total:   0.037842s  \n",
      "Size:        4,096  Iters:     10  alloc:   0.035652s  fill:   0.005593s  total:   0.041245s  \n",
      "Size:        4,096  Iters:    100  alloc:   0.036108s  fill:   0.050339s  total:   0.086446s  \n",
      "Size:        4,096  Iters:  1,000  alloc:   0.038648s  fill:   0.481394s  total:   0.520042s  \n",
      "Size:        4,096  Iters: 10,000  alloc:   0.037828s  fill:   4.753290s  total:   4.791118s  \n",
      "Size:        8,192  Iters:      1  alloc:   0.036187s  fill:   0.000754s  total:   0.036941s  \n",
      "Size:        8,192  Iters:     10  alloc:   0.038411s  fill:   0.005744s  total:   0.044154s  \n",
      "Size:        8,192  Iters:    100  alloc:   0.035210s  fill:   0.049736s  total:   0.084946s  \n",
      "Size:        8,192  Iters:  1,000  alloc:   0.039982s  fill:   0.480161s  total:   0.520143s  \n",
      "Size:        8,192  Iters: 10,000  alloc:   0.035762s  fill:   4.755847s  total:   4.791609s  \n",
      "Size:       16,384  Iters:      1  alloc:   0.036780s  fill:   0.000907s  total:   0.037687s  \n",
      "Size:       16,384  Iters:     10  alloc:   0.035541s  fill:   0.006686s  total:   0.042227s  \n",
      "Size:       16,384  Iters:    100  alloc:   0.036012s  fill:   0.060658s  total:   0.096670s  \n",
      "Size:       16,384  Iters:  1,000  alloc:   0.039763s  fill:   0.581668s  total:   0.621431s  \n",
      "Size:       16,384  Iters: 10,000  alloc:   0.036774s  fill:   5.810923s  total:   5.847697s  \n",
      "Size:       32,768  Iters:      1  alloc:   0.037771s  fill:   0.000950s  total:   0.038722s  \n",
      "Size:       32,768  Iters:     10  alloc:   0.038313s  fill:   0.007452s  total:   0.045765s  \n",
      "Size:       32,768  Iters:    100  alloc:   0.038650s  fill:   0.068167s  total:   0.106817s  \n",
      "Size:       32,768  Iters:  1,000  alloc:   0.045516s  fill:   0.685185s  total:   0.730700s  \n",
      "Size:       32,768  Iters: 10,000  alloc:   0.040947s  fill:   6.827632s  total:   6.868579s  \n",
      "Size:       65,535  Iters:      1  alloc:   0.043036s  fill:   0.001249s  total:   0.044286s  \n",
      "Size:       65,535  Iters:     10  alloc:   0.042775s  fill:   0.009815s  total:   0.052590s  \n",
      "Size:       65,535  Iters:    100  alloc:   0.043912s  fill:   0.102110s  total:   0.146022s  \n",
      "Size:       65,535  Iters:  1,000  alloc:   0.042837s  fill:   0.978929s  total:   1.021765s  \n",
      "Size:       65,535  Iters: 10,000  alloc:   0.038944s  fill:   9.706235s  total:   9.745179s  \n",
      "Saved results to 'results.pickle'\n"
     ]
    }
   ],
   "source": [
    "from time import time\n",
    "\n",
    "def do_benchmark(size = 16, iters = 1) -> dict:\n",
    "    t0 = time()\n",
    "    bench_array = pynq.allocate(shape=(size,),dtype='u8')\n",
    "    t1 = time()\n",
    "    for _ in range(iters):\n",
    "        streamer.fill_buffer(0, bench_array)\n",
    "    t2 = time()\n",
    "    return {'alloc': t1-t0, 'fill': t2-t1, 'total':t2-t0}\n",
    "\n",
    "\n",
    "results = []\n",
    "\n",
    "sizelist = [2**s for s in range(16)]\n",
    "sizelist += [(2<<15) - 1] # also do max counter size\n",
    "iterlist = [10**i for i in range(5)]\n",
    "\n",
    "for size in sizelist:\n",
    "    for iters in iterlist:\n",
    "        times = do_benchmark(size, iters)\n",
    "        times['size'] = size\n",
    "        times['iters'] = iters\n",
    "        results.append(times)\n",
    "        print(f'Size: {size:>12,d}  Iters: {iters:6,}', end='  ')\n",
    "        for category in ('alloc', 'fill', 'total'):\n",
    "            print(f'{category}: {times[category]:10.6f}s', end='  ')\n",
    "        print()\n",
    "\n",
    "\n",
    "import pickle\n",
    "with open('results.pickle', 'wb') as f:\n",
    "    pickle.dump(results, f, pickle.HIGHEST_PROTOCOL)\n",
    "    print(f\"Saved results to 'results.pickle'\")"
   ]
  },
  {
   "cell_type": "code",
   "execution_count": 4,
   "id": "16b07a25",
   "metadata": {},
   "outputs": [
    {
     "name": "stdout",
     "output_type": "stream",
     "text": [
      "[60000 60001 60002 ... 64997 64998 64999]\n"
     ]
    }
   ],
   "source": [
    "big_test = pynq.allocate(shape=(5000,), dtype='u8')\n",
    "streamer.fill_buffer(60000,big_test)\n",
    "print(big_test)"
   ]
  },
  {
   "cell_type": "markdown",
   "id": "94ae647e",
   "metadata": {},
   "source": [
    "## Results:\n",
    "\n",
    "Speeds not including time to allocate the buffer on PS-side"
   ]
  },
  {
   "cell_type": "code",
   "execution_count": 5,
   "id": "8de06627",
   "metadata": {},
   "outputs": [
    {
     "name": "stdout",
     "output_type": "stream",
     "text": [
      "          iters    size (bytes)    speed (Mbps)          (MB/s)\n",
      "              1               8           0.009           0.001 \n",
      "             10               8           0.014           0.002 \n",
      "            100               8           0.016           0.002 \n",
      "          1,000               8           0.016           0.002 \n",
      "         10,000               8           0.017           0.002 \n",
      "              1              16           0.020           0.002 \n",
      "             10              16           0.031           0.004 \n",
      "            100              16           0.033           0.004 \n",
      "          1,000              16           0.034           0.004 \n",
      "         10,000              16           0.034           0.004 \n",
      "              1              32           0.044           0.005 \n",
      "             10              32           0.059           0.007 \n",
      "            100              32           0.066           0.008 \n",
      "          1,000              32           0.066           0.008 \n",
      "         10,000              32           0.068           0.008 \n",
      "              1              64           0.085           0.010 \n",
      "             10              64           0.120           0.014 \n",
      "            100              64           0.129           0.015 \n",
      "          1,000              64           0.131           0.016 \n",
      "         10,000              64           0.134           0.016 \n",
      "              1             128           0.170           0.020 \n",
      "             10             128           0.212           0.025 \n",
      "            100             128           0.264           0.031 \n",
      "          1,000             128           0.269           0.032 \n",
      "         10,000             128           0.268           0.032 \n",
      "              1             256           0.322           0.038 \n",
      "             10             256           0.482           0.057 \n",
      "            100             256           0.521           0.062 \n",
      "          1,000             256           0.533           0.064 \n",
      "         10,000             256           0.539           0.064 \n",
      "              1             512           0.609           0.073 \n",
      "             10             512           0.896           0.107 \n",
      "            100             512           1.065           0.127 \n",
      "          1,000             512           1.070           0.128 \n",
      "         10,000             512           1.069           0.127 \n",
      "              1           1,024           1.464           0.175 \n",
      "             10           1,024           1.602           0.191 \n",
      "            100           1,024           2.140           0.255 \n",
      "          1,000           1,024           2.133           0.254 \n",
      "         10,000           1,024           2.150           0.256 \n",
      "              1           2,048           2.721           0.324 \n",
      "             10           2,048           3.847           0.459 \n",
      "            100           2,048           4.226           0.504 \n",
      "          1,000           2,048           4.266           0.509 \n",
      "         10,000           2,048           4.325           0.516 \n",
      "              1           4,096           5.423           0.646 \n",
      "             10           4,096           6.399           0.763 \n",
      "            100           4,096           8.487           1.012 \n",
      "          1,000           4,096           8.594           1.024 \n",
      "         10,000           4,096           8.555           1.020 \n",
      "              1           8,192          11.174           1.332 \n",
      "             10           8,192          13.066           1.558 \n",
      "            100           8,192          16.158           1.926 \n",
      "          1,000           8,192          17.115           2.040 \n",
      "         10,000           8,192          17.282           2.060 \n",
      "              1          16,384          22.175           2.643 \n",
      "             10          16,384          30.874           3.680 \n",
      "            100          16,384          33.175           3.955 \n",
      "          1,000          16,384          33.478           3.991 \n",
      "         10,000          16,384          33.901           4.041 \n",
      "              1          32,768          37.935           4.522 \n",
      "             10          32,768          58.592           6.985 \n",
      "            100          32,768          65.095           7.760 \n",
      "          1,000          32,768          68.069           8.114 \n",
      "         10,000          32,768          68.938           8.218 \n",
      "              1          65,536          86.904          10.360 \n",
      "             10          65,536         114.105          13.602 \n",
      "            100          65,536         131.769          15.708 \n",
      "          1,000          65,536         136.488          16.271 \n",
      "         10,000          65,536         137.801          16.427 \n",
      "              1         131,072         144.558          17.233 \n",
      "             10         131,072         196.033          23.369 \n",
      "            100         131,072         216.082          25.759 \n",
      "          1,000         131,072         225.338          26.862 \n",
      "         10,000         131,072         225.561          26.889 \n",
      "              1         262,144         275.843          32.883 \n",
      "             10         262,144         351.776          41.935 \n",
      "            100         262,144         384.563          45.843 \n",
      "          1,000         262,144         382.589          45.608 \n",
      "         10,000         262,144         383.946          45.770 \n",
      "              1         524,280         419.655          50.027 \n",
      "             10         524,280         534.189          63.680 \n",
      "            100         524,280         513.448          61.208 \n",
      "          1,000         524,280         535.565          63.844 \n",
      "         10,000         524,280         540.148          64.391 \n"
     ]
    }
   ],
   "source": [
    "print(f\"{'iters':>15s} {'size (bytes)':>15s} {'speed (Mbps)':>15} {'(MB/s)':>15s}\")\n",
    "for res in results:\n",
    "    bits = res['iters'] * res['size'] * 8\n",
    "    mbps = bits / ((10**6) * res['fill'])\n",
    "    MBs  = bits / ((2**20) * 8 * res['fill'])\n",
    "    print(f\"{res['iters']:>15,d} {res['size']*8:15,d} {mbps:15.3f} {MBs:15.3f} \")"
   ]
  }
 ],
 "metadata": {
  "kernelspec": {
   "display_name": "Python 3",
   "language": "python",
   "name": "python3"
  },
  "language_info": {
   "codemirror_mode": {
    "name": "ipython",
    "version": 3
   },
   "file_extension": ".py",
   "mimetype": "text/x-python",
   "name": "python",
   "nbconvert_exporter": "python",
   "pygments_lexer": "ipython3",
   "version": "3.8.2"
  }
 },
 "nbformat": 4,
 "nbformat_minor": 5
}
