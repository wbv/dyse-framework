{
 "cells": [
  {
   "cell_type": "code",
   "execution_count": 1,
   "id": "940b56e2",
   "metadata": {},
   "outputs": [
    {
     "data": {
      "application/javascript": [
       "\n",
       "try {\n",
       "require(['notebook/js/codecell'], function(codecell) {\n",
       "  codecell.CodeCell.options_default.highlight_modes[\n",
       "      'magic_text/x-csrc'] = {'reg':[/^%%microblaze/]};\n",
       "  Jupyter.notebook.events.one('kernel_ready.Kernel', function(){\n",
       "      Jupyter.notebook.get_cells().map(function(cell){\n",
       "          if (cell.cell_type == 'code'){ cell.auto_highlight(); } }) ;\n",
       "  });\n",
       "});\n",
       "} catch (e) {};\n"
      ]
     },
     "metadata": {},
     "output_type": "display_data"
    },
    {
     "data": {
      "application/javascript": [
       "\n",
       "try {\n",
       "require(['notebook/js/codecell'], function(codecell) {\n",
       "  codecell.CodeCell.options_default.highlight_modes[\n",
       "      'magic_text/x-csrc'] = {'reg':[/^%%pybind11/]};\n",
       "  Jupyter.notebook.events.one('kernel_ready.Kernel', function(){\n",
       "      Jupyter.notebook.get_cells().map(function(cell){\n",
       "          if (cell.cell_type == 'code'){ cell.auto_highlight(); } }) ;\n",
       "  });\n",
       "});\n",
       "} catch (e) {};\n"
      ]
     },
     "metadata": {},
     "output_type": "display_data"
    }
   ],
   "source": [
    "import pynq\n",
    "\n",
    "ol = pynq.Overlay('test_dma_stream.bit', download=True)"
   ]
  },
  {
   "cell_type": "code",
   "execution_count": 2,
   "id": "2fd54b71",
   "metadata": {},
   "outputs": [],
   "source": [
    "import pprint\n",
    "pp = pprint.PrettyPrinter(indent=1, width=80, depth=3)\n",
    "#pp.pprint(ol.ip_dict['axi_dma_0'])\n",
    "#pp.pprint(ol.ip_dict['count_stream_test_0'])"
   ]
  },
  {
   "cell_type": "code",
   "execution_count": 3,
   "id": "bee6e7f0",
   "metadata": {},
   "outputs": [],
   "source": [
    "from pynq import allocate # for DMA interactions\n",
    "\n",
    "def chan_status(chan):\n",
    "    if chan is None:\n",
    "        return ''\n",
    "    \n",
    "    r = chan.running\n",
    "    i = chan.idle\n",
    "    e = chan.error\n",
    "\n",
    "    return f'Run:{r} Idle:{i} Err:{e}'\n",
    "\n",
    "def dump_regs(dma, offset):\n",
    "    info = ''\n",
    "    cr = dma.mmio.read(offset + 0x0)\n",
    "    sr = dma.mmio.read(offset + 0x4)\n",
    "    lo = dma.mmio.read(offset + 0x18)\n",
    "    hi = dma.mmio.read(offset + 0x1c)\n",
    "    sz = dma.mmio.read(offset + 0x28)\n",
    "    info += f'CR:   0x{cr:08x}\\n'\n",
    "    info += f'SR:   0x{sr:08x}\\n'\n",
    "    info += f'addr: 0x{hi:08x}{lo:08x}\\n'\n",
    "    info += f'len:  0x{sz:08x}\\n'\n",
    "    return info\n",
    "\n",
    "def dump_stream_regs(count_stream):\n",
    "    info = ''\n",
    "    lo    = count_stream.read(0x0)\n",
    "    hi    = count_stream.read(0x4)\n",
    "    info += f'StreamCfg: {lo} to {hi}\\n'\n",
    "    debug = count_stream.read(0xc)\n",
    "    info += f'TVALID: {(debug & (1 << 0)) >> 0} '\n",
    "    info += f'TLAST: {(debug & (1 << 1)) >> 1} '\n",
    "    info += f'TREADY: {(debug & (1 << 2)) >> 2}\\n'\n",
    "    info += f'counter_start: {(debug & (1 << 4)) >> 4}\\n'\n",
    "    info += f'read_pointer: {debug >> 16} '\n",
    "    info += f'tx_en: {(debug & (1 << 8)) >> 8}\\n'\n",
    "    return info\n",
    "\n",
    "\n",
    "def debug_dma(dma):\n",
    "    if dma.sendchannel is not None:\n",
    "        print('Send Channel', chan_status(dma.sendchannel))\n",
    "        print(dump_regs(dma, 0x0))\n",
    "    if dma.recvchannel is not None:\n",
    "        print('Recv Channel', chan_status(dma.recvchannel))\n",
    "        print(dump_regs(dma, 0x30))\n",
    "\n",
    "def debug_stream(count_stream):\n",
    "    print(dump_stream_regs(count_stream))\n",
    "    \n",
    "def debug_both(dma, count_stream):\n",
    "    debug_dma(dma)\n",
    "    debug_stream(count_stream)\n",
    "    "
   ]
  },
  {
   "cell_type": "code",
   "execution_count": 4,
   "id": "46157b68",
   "metadata": {},
   "outputs": [
    {
     "name": "stdout",
     "output_type": "stream",
     "text": [
      "Recv Channel Run:True Idle:False Err:False\n",
      "CR:   0x00011003\n",
      "SR:   0x00000000\n",
      "addr: 0x0000000000000000\n",
      "len:  0x00000000\n",
      "\n",
      "StreamCfg: 0 to 0\n",
      "TVALID: 0 TLAST: 1 TREADY: 1\n",
      "counter_start: 0\n",
      "read_pointer: 65535 tx_en: 0\n",
      "\n",
      "[0 0 0 0 0]\n",
      "Recv Channel Run:True Idle:False Err:False\n",
      "CR:   0x00011003\n",
      "SR:   0x00000000\n",
      "addr: 0x0000000000000000\n",
      "len:  0x00000000\n",
      "\n",
      "StreamCfg: 0 to 0\n",
      "TVALID: 0 TLAST: 1 TREADY: 1\n",
      "counter_start: 0\n",
      "read_pointer: 65535 tx_en: 0\n",
      "\n",
      "Recv Channel Run:True Idle:False Err:False\n",
      "CR:   0x00011003\n",
      "SR:   0x00000000\n",
      "addr: 0x0000000016849000\n",
      "len:  0x00000028\n",
      "\n",
      "StreamCfg: 0 to 0\n",
      "TVALID: 0 TLAST: 1 TREADY: 1\n",
      "counter_start: 0\n",
      "read_pointer: 65535 tx_en: 0\n",
      "\n",
      "Recv Channel Run:True Idle:True Err:False\n",
      "CR:   0x00011003\n",
      "SR:   0x00001002\n",
      "addr: 0x0000000016849000\n",
      "len:  0x00000028\n",
      "\n",
      "StreamCfg: 1 to 5\n",
      "TVALID: 0 TLAST: 0 TREADY: 1\n",
      "counter_start: 0\n",
      "read_pointer: 5 tx_en: 0\n",
      "\n",
      "Recv Channel Run:True Idle:True Err:False\n",
      "CR:   0x00011003\n",
      "SR:   0x00001002\n",
      "addr: 0x0000000016849000\n",
      "len:  0x00000028\n",
      "\n",
      "StreamCfg: 1 to 5\n",
      "TVALID: 0 TLAST: 0 TREADY: 1\n",
      "counter_start: 0\n",
      "read_pointer: 5 tx_en: 0\n",
      "\n",
      "[1 2 3 4 5]\n"
     ]
    }
   ],
   "source": [
    "count = 5\n",
    "start = 1\n",
    "\n",
    "debug_dma(ol.axi_dma_0)\n",
    "debug_stream(ol.count_stream_test_0)\n",
    "dma_result = allocate(shape=(count,), dtype='u8')\n",
    "print(dma_result)\n",
    "debug_dma(ol.axi_dma_0)\n",
    "debug_stream(ol.count_stream_test_0)\n",
    "ol.axi_dma_0.recvchannel.transfer(dma_result, nbytes=count*8)\n",
    "debug_dma(ol.axi_dma_0)\n",
    "debug_stream(ol.count_stream_test_0)\n",
    "ol.count_stream_test_0.write(0x0, start)         # counter_lo\n",
    "ol.count_stream_test_0.write(0x4, start+count-1) # counter_hi\n",
    "ol.count_stream_test_0.write(0x8, 1)             # counter start\n",
    "debug_dma(ol.axi_dma_0)\n",
    "debug_stream(ol.count_stream_test_0)\n",
    "ol.axi_dma_0.recvchannel.wait()\n",
    "debug_dma(ol.axi_dma_0)\n",
    "debug_stream(ol.count_stream_test_0)\n",
    "print(dma_result)"
   ]
  },
  {
   "cell_type": "code",
   "execution_count": 5,
   "id": "ba1d6bea",
   "metadata": {},
   "outputs": [
    {
     "name": "stdout",
     "output_type": "stream",
     "text": [
      "Recv Channel Run:True Idle:True Err:False\n",
      "CR:   0x00011003\n",
      "SR:   0x00001002\n",
      "addr: 0x0000000016849000\n",
      "len:  0x00000028\n",
      "\n",
      "StreamCfg: 1 to 5\n",
      "TVALID: 0 TLAST: 0 TREADY: 1\n",
      "counter_start: 0\n",
      "read_pointer: 5 tx_en: 0\n",
      "\n"
     ]
    }
   ],
   "source": [
    "debug_dma(ol.axi_dma_0)\n",
    "debug_stream(ol.count_stream_test_0)"
   ]
  },
  {
   "cell_type": "code",
   "execution_count": 6,
   "id": "798bac7e",
   "metadata": {},
   "outputs": [
    {
     "name": "stdout",
     "output_type": "stream",
     "text": [
      "[134 135 136 137 138 139 140 141 142 143 144 145 146 147 148 149 150 151\n",
      " 152 153 154 155 156 157 158 159 160 161 162 163 164 165 166 167 168 169\n",
      " 170 171 172 173 174 175 176 177 178 179 180 181 182 183 184 185 186 187\n",
      " 188 189 190 191 192 193 194 195 196 197 198 199 200 201 202 203 204 205\n",
      " 206 207 208 209 210 211 212 213 214 215 216 217 218 219 220 221 222 223\n",
      " 224 225 226 227 228 229 230 231 232 233 234 235 236 237 238 239 240 241\n",
      " 242 243 244 245 246 247 248 249 250 251 252 253 254 255 256 257 258 259\n",
      " 260 261 262 263 264 265 266 267 268 269 270 271 272 273 274 275 276 277\n",
      " 278 279 280 281 282 283 284 285 286 287 288 289 290 291 292 293 294 295\n",
      " 296 297 298 299 300 301 302 303 304 305 306 307 308 309 310 311 312 313\n",
      " 314 315 316 317 318 319 320 321 322 323 324 325 326 327 328 329 330 331\n",
      " 332 333 334 335 336 337 338 339 340 341 342 343 344 345 346 347 348 349\n",
      " 350 351 352 353 354 355 356 357 358 359 360 361 362 363 364 365 366 367\n",
      " 368 369 370 371 372 373 374 375 376 377 378 379 380 381 382 383 384 385\n",
      " 386 387 388 389 390 391 392 393 394 395 396 397 398 399 400 401 402 403\n",
      " 404 405 406 407 408 409 410 411 412 413 414 415 416 417 418 419 420 421\n",
      " 422 423 424 425 426 427 428 429 430 431 432 433 434 435 436 437 438 439\n",
      " 440 441 442 443 444 445 446 447 448 449 450 451 452 453 454 455 456 457\n",
      " 458 459 460 461 462 463 464 465 466 467 468 469 470 471 472 473 474 475\n",
      " 476 477 478 479 480 481 482 483 484 485 486 487 488 489 490 491 492 493\n",
      " 494 495 496 497 498 499 500 501 502 503 504 505 506 507 508 509 510 511\n",
      " 512 513 514 515 516 517 518 519 520 521 522 523 524 525 526 527 528 529\n",
      " 530 531 532 533 534 535 536 537 538 539 540 541 542 543 544 545 546 547\n",
      " 548 549 550 551 552 553 554 555 556 557 558 559 560 561 562 563 564 565\n",
      " 566 567 568 569 570 571 572 573 574 575 576 577 578 579 580 581 582 583\n",
      " 584 585 586 587 588 589 590 591 592 593 594 595 596 597 598 599 600 601\n",
      " 602 603 604 605 606 607 608 609 610 611 612 613 614 615 616 617 618 619\n",
      " 620 621 622 623 624 625 626 627 628 629 630 631 632 633 634 635 636 637\n",
      " 638 639 640 641 642 643 644 645 646 647 648 649 650]\n"
     ]
    }
   ],
   "source": [
    "start = 134\n",
    "end = 650\n",
    "\n",
    "count = end - start + 1\n",
    "\n",
    "result = allocate(shape=(count,), dtype='u8')\n",
    "ol.axi_dma_0.recvchannel.transfer(result, nbytes=count*8)\n",
    "ol.count_stream_test_0.write(0x0, start)\n",
    "ol.count_stream_test_0.write(0x4, end)\n",
    "ol.count_stream_test_0.write(0x8, 1)\n",
    "ol.axi_dma_0.recvchannel.wait()\n",
    "print(result)"
   ]
  },
  {
   "cell_type": "markdown",
   "id": "8f42e5aa",
   "metadata": {},
   "source": [
    "### Notes\n",
    "\n",
    "Any size seems to work correctly, now. But I only get half of the data? So weird. Is there some kind of strobing/throttling?\n",
    "\n",
    "Might wanna testbench count_stream_test_0 as well.\n",
    "\n",
    "### TODO\n",
    "\n",
    "* Expand DishSoap class to actually wrap this behavior out\n",
    "* ????\n",
    "* start working on the other side of the network sim again"
   ]
  },
  {
   "cell_type": "code",
   "execution_count": 7,
   "id": "bf129d9d",
   "metadata": {},
   "outputs": [],
   "source": [
    "from dishsoap import CountStreamTest, TestDmaStreamOverlay\n",
    "ol = TestDmaStreamOverlay()"
   ]
  },
  {
   "cell_type": "code",
   "execution_count": 8,
   "id": "acf9a748",
   "metadata": {},
   "outputs": [
    {
     "name": "stdout",
     "output_type": "stream",
     "text": [
      "Recv Channel Run:True Idle:False Err:False\n",
      "CR:   0x00011003\n",
      "SR:   0x00000000\n",
      "addr: 0x0000000000000000\n",
      "len:  0x00000000\n",
      "\n",
      "StreamCfg: 0 to 0\n",
      "TVALID: 0 TLAST: 1 TREADY: 1\n",
      "counter_start: 0\n",
      "read_pointer: 65535 tx_en: 0\n",
      "\n"
     ]
    }
   ],
   "source": [
    "ol.debug_both()"
   ]
  },
  {
   "cell_type": "code",
   "execution_count": null,
   "id": "8811cc30",
   "metadata": {},
   "outputs": [],
   "source": []
  }
 ],
 "metadata": {
  "kernelspec": {
   "display_name": "Python 3",
   "language": "python",
   "name": "python3"
  },
  "language_info": {
   "codemirror_mode": {
    "name": "ipython",
    "version": 3
   },
   "file_extension": ".py",
   "mimetype": "text/x-python",
   "name": "python",
   "nbconvert_exporter": "python",
   "pygments_lexer": "ipython3",
   "version": "3.8.2"
  }
 },
 "nbformat": 4,
 "nbformat_minor": 5
}
