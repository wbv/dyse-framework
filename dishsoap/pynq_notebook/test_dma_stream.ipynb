{
 "cells": [
  {
   "cell_type": "code",
   "execution_count": 1,
   "id": "940b56e2",
   "metadata": {},
   "outputs": [
    {
     "data": {
      "application/javascript": [
       "\n",
       "try {\n",
       "require(['notebook/js/codecell'], function(codecell) {\n",
       "  codecell.CodeCell.options_default.highlight_modes[\n",
       "      'magic_text/x-csrc'] = {'reg':[/^%%microblaze/]};\n",
       "  Jupyter.notebook.events.one('kernel_ready.Kernel', function(){\n",
       "      Jupyter.notebook.get_cells().map(function(cell){\n",
       "          if (cell.cell_type == 'code'){ cell.auto_highlight(); } }) ;\n",
       "  });\n",
       "});\n",
       "} catch (e) {};\n"
      ]
     },
     "metadata": {},
     "output_type": "display_data"
    },
    {
     "data": {
      "application/javascript": [
       "\n",
       "try {\n",
       "require(['notebook/js/codecell'], function(codecell) {\n",
       "  codecell.CodeCell.options_default.highlight_modes[\n",
       "      'magic_text/x-csrc'] = {'reg':[/^%%pybind11/]};\n",
       "  Jupyter.notebook.events.one('kernel_ready.Kernel', function(){\n",
       "      Jupyter.notebook.get_cells().map(function(cell){\n",
       "          if (cell.cell_type == 'code'){ cell.auto_highlight(); } }) ;\n",
       "  });\n",
       "});\n",
       "} catch (e) {};\n"
      ]
     },
     "metadata": {},
     "output_type": "display_data"
    }
   ],
   "source": [
    "import pynq\n",
    "from dishsoap import StreamController, TestDmaStreamOverlay\n",
    "streamer = TestDmaStreamOverlay()"
   ]
  },
  {
   "cell_type": "code",
   "execution_count": 2,
   "id": "798bac7e",
   "metadata": {},
   "outputs": [
    {
     "name": "stdout",
     "output_type": "stream",
     "text": [
      "[  5   6   7   8   9  10  11  12  13  14  15  16  17  18  19  20  21  22\n",
      "  23  24  25  26  27  28  29  30  31  32  33  34  35  36  37  38  39  40\n",
      "  41  42  43  44  45  46  47  48  49  50  51  52  53  54  55  56  57  58\n",
      "  59  60  61  62  63  64  65  66  67  68  69  70  71  72  73  74  75  76\n",
      "  77  78  79  80  81  82  83  84  85  86  87  88  89  90  91  92  93  94\n",
      "  95  96  97  98  99 100 101 102 103 104 105 106 107 108 109 110 111 112\n",
      " 113 114 115 116 117 118 119 120 121 122 123 124 125 126 127 128 129]\n"
     ]
    }
   ],
   "source": [
    "results = pynq.allocate(shape=(125,), dtype='u8')\n",
    "streamer.fill_buffer(5, results)\n",
    "print(results)"
   ]
  },
  {
   "cell_type": "markdown",
   "id": "bc6b025e",
   "metadata": {},
   "source": [
    "## Benchmark"
   ]
  },
  {
   "cell_type": "code",
   "execution_count": 26,
   "id": "894217f2",
   "metadata": {},
   "outputs": [
    {
     "name": "stdout",
     "output_type": "stream",
     "text": [
      "Runtime (): 0.000768 s\n",
      "Runtime (): 0.005790 s\n",
      "Runtime (): 0.048535 s\n",
      "Runtime (): 0.482596 s\n",
      "Runtime (): 4.726547 s\n",
      "Runtime (): 47.486923 s\n",
      "Runtime (): 471.902651 s\n",
      "Runtime (): 0.000752 s\n",
      "Runtime (): 0.006835 s\n",
      "Runtime (): 0.047400 s\n",
      "Runtime (): 0.480858 s\n",
      "Runtime (): 4.743493 s\n",
      "Runtime (): 46.971554 s\n",
      "Runtime (): 469.093750 s\n",
      "Runtime (): 0.000748 s\n",
      "Runtime (): 0.005308 s\n",
      "Runtime (): 0.050078 s\n",
      "Runtime (): 0.475248 s\n",
      "Runtime (): 4.695933 s\n",
      "Runtime (): 46.717793 s\n",
      "Runtime (): 468.219835 s\n",
      "Runtime (): 0.000727 s\n",
      "Runtime (): 0.005247 s\n",
      "Runtime (): 0.047610 s\n",
      "Runtime (): 0.477453 s\n",
      "Runtime (): 4.693148 s\n",
      "Runtime (): 46.599677 s\n",
      "Runtime (): 468.253398 s\n",
      "Runtime (): 0.000761 s\n",
      "Runtime (): 0.005519 s\n",
      "Runtime (): 0.048013 s\n",
      "Runtime (): 0.485601 s\n",
      "Runtime (): 4.735056 s\n",
      "Runtime (): 47.266232 s\n",
      "Runtime (): 471.172089 s\n",
      "Runtime (): 0.000747 s\n",
      "Runtime (): 0.005680 s\n",
      "Runtime (): 0.049703 s\n",
      "Runtime (): 0.480694 s\n",
      "Runtime (): 4.726023 s\n",
      "Runtime (): 46.680385 s\n",
      "Runtime (): 466.471002 s\n",
      "Runtime (): 0.000693 s\n",
      "Runtime (): 0.005675 s\n",
      "Runtime (): 0.049223 s\n",
      "Runtime (): 0.480163 s\n",
      "Runtime (): 4.746816 s\n",
      "Runtime (): 47.440090 s\n",
      "Runtime (): 475.153533 s\n",
      "Runtime (): 0.000750 s\n",
      "Runtime (): 0.006099 s\n",
      "Runtime (): 0.048353 s\n",
      "Runtime (): 0.481117 s\n",
      "Runtime (): 4.733851 s\n",
      "Runtime (): 46.772635 s\n",
      "Runtime (): 468.472840 s\n",
      "Runtime (): 0.000832 s\n",
      "Runtime (): 0.005597 s\n",
      "Runtime (): 0.048372 s\n",
      "Runtime (): 0.487569 s\n",
      "Runtime (): 4.745690 s\n",
      "Runtime (): 47.499889 s\n",
      "Runtime (): 476.377924 s\n",
      "Runtime (): 0.000880 s\n",
      "Runtime (): 0.005832 s\n",
      "Runtime (): 0.047963 s\n",
      "Runtime (): 0.480322 s\n",
      "Runtime (): 4.722038 s\n",
      "Runtime (): 47.117337 s\n",
      "Runtime (): 472.226912 s\n",
      "Runtime (): 0.000757 s\n",
      "Runtime (): 0.005360 s\n",
      "Runtime (): 0.048067 s\n",
      "Runtime (): 0.486081 s\n",
      "Runtime (): 4.744755 s\n",
      "Runtime (): 47.160037 s\n",
      "Runtime (): 471.760374 s\n",
      "Runtime (): 0.000732 s\n",
      "Runtime (): 0.005352 s\n",
      "Runtime (): 0.048214 s\n",
      "Runtime (): 0.482262 s\n",
      "Runtime (): 4.735868 s\n",
      "Runtime (): 47.285464 s\n",
      "Runtime (): 471.278016 s\n",
      "Runtime (): 0.000803 s\n",
      "Runtime (): 0.008304 s\n",
      "Runtime (): 0.058138 s\n",
      "Runtime (): 0.578716 s\n",
      "Runtime (): 5.734663 s\n",
      "Runtime (): 57.344761 s\n",
      "Runtime (): 569.126415 s\n",
      "Saved results to 'results.pickle'\n"
     ]
    }
   ],
   "source": [
    "from time import time\n",
    "\n",
    "def do_benchmark(size = 16, iters = 1) -> dict:\n",
    "    t0 = time()\n",
    "    bench_array = pynq.allocate(shape=(size,),dtype='u8')\n",
    "    t1 = time()\n",
    "    for _ in range(iters):\n",
    "        streamer.fill_buffer(1, bench_array)\n",
    "    t2 = time()\n",
    "    return {'alloc': t1-t0, 'fill': t2-t1, 'total':t2-t0}\n",
    "\n",
    "#size = 2**8\n",
    "#iters = 2\n",
    "#times = do_benchmark(size)\n",
    "#for category in ('alloc', 'fill', 'total'):\n",
    "#    print(f'Runtime ({category}): {times[category]:4.6f} s')\n",
    "\n",
    "results = []\n",
    "\n",
    "for size_exp in range(13):\n",
    "    for iters_exp in range(7):\n",
    "        size = 2**size_exp\n",
    "        iters = 10**iters_exp\n",
    "        times = do_benchmark(size, iters)\n",
    "        times['size'] = size\n",
    "        times['iters'] = iters\n",
    "        results.append(times)\n",
    "        print(f\"Runtime (): {times['fill']:4.6f} s\")\n",
    "\n",
    "import pickle\n",
    "with open('results.pickle', 'wb') as f:\n",
    "    pickle.dump(results, f, pickle.HIGHEST_PROTOCOL)\n",
    "    print(f\"Saved results to 'results.pickle'\")"
   ]
  },
  {
   "cell_type": "code",
   "execution_count": 30,
   "id": "16b07a25",
   "metadata": {},
   "outputs": [
    {
     "name": "stdout",
     "output_type": "stream",
     "text": [
      "[60000 60001 60002 ... 64997 64998 64999]\n"
     ]
    }
   ],
   "source": [
    "big_test = pynq.allocate(shape=(5000,), dtype='u8')\n",
    "streamer.fill_buffer(60000,big_test)\n",
    "print(big_test)"
   ]
  },
  {
   "cell_type": "markdown",
   "id": "94ae647e",
   "metadata": {},
   "source": [
    "## Results:\n",
    "\n",
    "Speeds not including time to allocate the buffer on PS-side"
   ]
  },
  {
   "cell_type": "code",
   "execution_count": 48,
   "id": "8de06627",
   "metadata": {},
   "outputs": [
    {
     "name": "stdout",
     "output_type": "stream",
     "text": [
      "Iters: 1          Size:       64 bytes  Speed:     0.083 Mbps  or   0.010 MB/s\n",
      "Iters: 10         Size:       64 bytes  Speed:     0.111 Mbps  or   0.013 MB/s\n",
      "Iters: 100        Size:       64 bytes  Speed:     0.132 Mbps  or   0.016 MB/s\n",
      "Iters: 1,000      Size:       64 bytes  Speed:     0.133 Mbps  or   0.016 MB/s\n",
      "Iters: 10,000     Size:       64 bytes  Speed:     0.135 Mbps  or   0.016 MB/s\n",
      "Iters: 100,000    Size:       64 bytes  Speed:     0.135 Mbps  or   0.016 MB/s\n",
      "Iters: 1,000,000  Size:       64 bytes  Speed:     0.136 Mbps  or   0.016 MB/s\n",
      "Iters: 1          Size:      128 bytes  Speed:     0.170 Mbps  or   0.020 MB/s\n",
      "Iters: 10         Size:      128 bytes  Speed:     0.187 Mbps  or   0.022 MB/s\n",
      "Iters: 100        Size:      128 bytes  Speed:     0.270 Mbps  or   0.032 MB/s\n",
      "Iters: 1,000      Size:      128 bytes  Speed:     0.266 Mbps  or   0.032 MB/s\n",
      "Iters: 10,000     Size:      128 bytes  Speed:     0.270 Mbps  or   0.032 MB/s\n",
      "Iters: 100,000    Size:      128 bytes  Speed:     0.273 Mbps  or   0.032 MB/s\n",
      "Iters: 1,000,000  Size:      128 bytes  Speed:     0.273 Mbps  or   0.033 MB/s\n",
      "Iters: 1          Size:      256 bytes  Speed:     0.342 Mbps  or   0.041 MB/s\n",
      "Iters: 10         Size:      256 bytes  Speed:     0.482 Mbps  or   0.057 MB/s\n",
      "Iters: 100        Size:      256 bytes  Speed:     0.511 Mbps  or   0.061 MB/s\n",
      "Iters: 1,000      Size:      256 bytes  Speed:     0.539 Mbps  or   0.064 MB/s\n",
      "Iters: 10,000     Size:      256 bytes  Speed:     0.545 Mbps  or   0.065 MB/s\n",
      "Iters: 100,000    Size:      256 bytes  Speed:     0.548 Mbps  or   0.065 MB/s\n",
      "Iters: 1,000,000  Size:      256 bytes  Speed:     0.547 Mbps  or   0.065 MB/s\n",
      "Iters: 1          Size:      512 bytes  Speed:     0.704 Mbps  or   0.084 MB/s\n",
      "Iters: 10         Size:      512 bytes  Speed:     0.976 Mbps  or   0.116 MB/s\n",
      "Iters: 100        Size:      512 bytes  Speed:     1.075 Mbps  or   0.128 MB/s\n",
      "Iters: 1,000      Size:      512 bytes  Speed:     1.072 Mbps  or   0.128 MB/s\n",
      "Iters: 10,000     Size:      512 bytes  Speed:     1.091 Mbps  or   0.130 MB/s\n",
      "Iters: 100,000    Size:      512 bytes  Speed:     1.099 Mbps  or   0.131 MB/s\n",
      "Iters: 1,000,000  Size:      512 bytes  Speed:     1.093 Mbps  or   0.130 MB/s\n",
      "Iters: 1          Size:    1,024 bytes  Speed:     1.345 Mbps  or   0.160 MB/s\n",
      "Iters: 10         Size:    1,024 bytes  Speed:     1.855 Mbps  or   0.221 MB/s\n",
      "Iters: 100        Size:    1,024 bytes  Speed:     2.133 Mbps  or   0.254 MB/s\n",
      "Iters: 1,000      Size:    1,024 bytes  Speed:     2.109 Mbps  or   0.251 MB/s\n",
      "Iters: 10,000     Size:    1,024 bytes  Speed:     2.163 Mbps  or   0.258 MB/s\n",
      "Iters: 100,000    Size:    1,024 bytes  Speed:     2.166 Mbps  or   0.258 MB/s\n",
      "Iters: 1,000,000  Size:    1,024 bytes  Speed:     2.173 Mbps  or   0.259 MB/s\n",
      "Iters: 1          Size:    2,048 bytes  Speed:     2.740 Mbps  or   0.327 MB/s\n",
      "Iters: 10         Size:    2,048 bytes  Speed:     3.606 Mbps  or   0.430 MB/s\n",
      "Iters: 100        Size:    2,048 bytes  Speed:     4.120 Mbps  or   0.491 MB/s\n",
      "Iters: 1,000      Size:    2,048 bytes  Speed:     4.261 Mbps  or   0.508 MB/s\n",
      "Iters: 10,000     Size:    2,048 bytes  Speed:     4.333 Mbps  or   0.517 MB/s\n",
      "Iters: 100,000    Size:    2,048 bytes  Speed:     4.387 Mbps  or   0.523 MB/s\n",
      "Iters: 1,000,000  Size:    2,048 bytes  Speed:     4.390 Mbps  or   0.523 MB/s\n",
      "Iters: 1          Size:    4,096 bytes  Speed:     5.908 Mbps  or   0.704 MB/s\n",
      "Iters: 10         Size:    4,096 bytes  Speed:     7.217 Mbps  or   0.860 MB/s\n",
      "Iters: 100        Size:    4,096 bytes  Speed:     8.321 Mbps  or   0.992 MB/s\n",
      "Iters: 1,000      Size:    4,096 bytes  Speed:     8.530 Mbps  or   1.017 MB/s\n",
      "Iters: 10,000     Size:    4,096 bytes  Speed:     8.629 Mbps  or   1.029 MB/s\n",
      "Iters: 100,000    Size:    4,096 bytes  Speed:     8.634 Mbps  or   1.029 MB/s\n",
      "Iters: 1,000,000  Size:    4,096 bytes  Speed:     8.620 Mbps  or   1.028 MB/s\n",
      "Iters: 1          Size:    8,192 bytes  Speed:    10.929 Mbps  or   1.303 MB/s\n",
      "Iters: 10         Size:    8,192 bytes  Speed:    13.432 Mbps  or   1.601 MB/s\n",
      "Iters: 100        Size:    8,192 bytes  Speed:    16.942 Mbps  or   2.020 MB/s\n",
      "Iters: 1,000      Size:    8,192 bytes  Speed:    17.027 Mbps  or   2.030 MB/s\n",
      "Iters: 10,000     Size:    8,192 bytes  Speed:    17.305 Mbps  or   2.063 MB/s\n",
      "Iters: 100,000    Size:    8,192 bytes  Speed:    17.515 Mbps  or   2.088 MB/s\n",
      "Iters: 1,000,000  Size:    8,192 bytes  Speed:    17.487 Mbps  or   2.085 MB/s\n",
      "Iters: 1          Size:   16,384 bytes  Speed:    19.702 Mbps  or   2.349 MB/s\n",
      "Iters: 10         Size:   16,384 bytes  Speed:    29.273 Mbps  or   3.490 MB/s\n",
      "Iters: 100        Size:   16,384 bytes  Speed:    33.871 Mbps  or   4.038 MB/s\n",
      "Iters: 1,000      Size:   16,384 bytes  Speed:    33.603 Mbps  or   4.006 MB/s\n",
      "Iters: 10,000     Size:   16,384 bytes  Speed:    34.524 Mbps  or   4.116 MB/s\n",
      "Iters: 100,000    Size:   16,384 bytes  Speed:    34.493 Mbps  or   4.112 MB/s\n",
      "Iters: 1,000,000  Size:   16,384 bytes  Speed:    34.393 Mbps  or   4.100 MB/s\n",
      "Iters: 1          Size:   32,768 bytes  Speed:    37.216 Mbps  or   4.437 MB/s\n",
      "Iters: 10         Size:   32,768 bytes  Speed:    56.185 Mbps  or   6.698 MB/s\n",
      "Iters: 100        Size:   32,768 bytes  Speed:    68.319 Mbps  or   8.144 MB/s\n",
      "Iters: 1,000      Size:   32,768 bytes  Speed:    68.221 Mbps  or   8.133 MB/s\n",
      "Iters: 10,000     Size:   32,768 bytes  Speed:    69.394 Mbps  or   8.272 MB/s\n",
      "Iters: 100,000    Size:   32,768 bytes  Speed:    69.546 Mbps  or   8.290 MB/s\n",
      "Iters: 1,000,000  Size:   32,768 bytes  Speed:    69.390 Mbps  or   8.272 MB/s\n",
      "Iters: 1          Size:   65,536 bytes  Speed:    86.630 Mbps  or  10.327 MB/s\n",
      "Iters: 10         Size:   65,536 bytes  Speed:   122.266 Mbps  or  14.575 MB/s\n",
      "Iters: 100        Size:   65,536 bytes  Speed:   136.343 Mbps  or  16.253 MB/s\n",
      "Iters: 1,000      Size:   65,536 bytes  Speed:   134.825 Mbps  or  16.072 MB/s\n",
      "Iters: 10,000     Size:   65,536 bytes  Speed:   138.123 Mbps  or  16.466 MB/s\n",
      "Iters: 100,000    Size:   65,536 bytes  Speed:   138.965 Mbps  or  16.566 MB/s\n",
      "Iters: 1,000,000  Size:   65,536 bytes  Speed:   138.918 Mbps  or  16.560 MB/s\n",
      "Iters: 1          Size:  131,072 bytes  Speed:   178.957 Mbps  or  21.333 MB/s\n",
      "Iters: 10         Size:  131,072 bytes  Speed:   244.880 Mbps  or  29.192 MB/s\n",
      "Iters: 100        Size:  131,072 bytes  Speed:   271.854 Mbps  or  32.407 MB/s\n",
      "Iters: 1,000      Size:  131,072 bytes  Speed:   271.786 Mbps  or  32.399 MB/s\n",
      "Iters: 10,000     Size:  131,072 bytes  Speed:   276.764 Mbps  or  32.993 MB/s\n",
      "Iters: 100,000    Size:  131,072 bytes  Speed:   277.193 Mbps  or  33.044 MB/s\n",
      "Iters: 1,000,000  Size:  131,072 bytes  Speed:   278.120 Mbps  or  33.155 MB/s\n",
      "Iters: 1          Size:  262,144 bytes  Speed:   326.652 Mbps  or  38.940 MB/s\n",
      "Iters: 10         Size:  262,144 bytes  Speed:   315.689 Mbps  or  37.633 MB/s\n",
      "Iters: 100        Size:  262,144 bytes  Speed:   450.899 Mbps  or  53.751 MB/s\n",
      "Iters: 1,000      Size:  262,144 bytes  Speed:   452.975 Mbps  or  53.999 MB/s\n",
      "Iters: 10,000     Size:  262,144 bytes  Speed:   457.122 Mbps  or  54.493 MB/s\n",
      "Iters: 100,000    Size:  262,144 bytes  Speed:   457.137 Mbps  or  54.495 MB/s\n",
      "Iters: 1,000,000  Size:  262,144 bytes  Speed:   460.608 Mbps  or  54.909 MB/s\n"
     ]
    }
   ],
   "source": [
    "for res in results:\n",
    "    bits = res['iters'] * res['size'] * 64\n",
    "    mbps = bits / ((10**6) * res['fill'])\n",
    "    MBs  = bits / ((2**20) * 8 * res['fill'])\n",
    "    info = ''\n",
    "    info += f\"Iters: {res['iters']:<10,d} \"\n",
    "    info += f\"Size: {res['size']*64:8,d} \"\n",
    "    info += f\"bytes  Speed: {mbps:9.3f} Mbps \"\n",
    "    info += f\" or {MBs:7.3f} MB/s\"\n",
    "    print(info)"
   ]
  }
 ],
 "metadata": {
  "kernelspec": {
   "display_name": "Python 3",
   "language": "python",
   "name": "python3"
  },
  "language_info": {
   "codemirror_mode": {
    "name": "ipython",
    "version": 3
   },
   "file_extension": ".py",
   "mimetype": "text/x-python",
   "name": "python",
   "nbconvert_exporter": "python",
   "pygments_lexer": "ipython3",
   "version": "3.8.2"
  }
 },
 "nbformat": 4,
 "nbformat_minor": 5
}
