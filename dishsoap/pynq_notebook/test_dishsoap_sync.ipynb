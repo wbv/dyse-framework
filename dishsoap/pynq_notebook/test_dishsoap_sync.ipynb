{
 "cells": [
  {
   "cell_type": "code",
   "execution_count": 1,
   "id": "65c87973",
   "metadata": {
    "scrolled": false
   },
   "outputs": [
    {
     "data": {
      "application/javascript": [
       "\n",
       "try {\n",
       "require(['notebook/js/codecell'], function(codecell) {\n",
       "  codecell.CodeCell.options_default.highlight_modes[\n",
       "      'magic_text/x-csrc'] = {'reg':[/^%%microblaze/]};\n",
       "  Jupyter.notebook.events.one('kernel_ready.Kernel', function(){\n",
       "      Jupyter.notebook.get_cells().map(function(cell){\n",
       "          if (cell.cell_type == 'code'){ cell.auto_highlight(); } }) ;\n",
       "  });\n",
       "});\n",
       "} catch (e) {};\n"
      ]
     },
     "metadata": {},
     "output_type": "display_data"
    },
    {
     "data": {
      "application/javascript": [
       "\n",
       "try {\n",
       "require(['notebook/js/codecell'], function(codecell) {\n",
       "  codecell.CodeCell.options_default.highlight_modes[\n",
       "      'magic_text/x-csrc'] = {'reg':[/^%%pybind11/]};\n",
       "  Jupyter.notebook.events.one('kernel_ready.Kernel', function(){\n",
       "      Jupyter.notebook.get_cells().map(function(cell){\n",
       "          if (cell.cell_type == 'code'){ cell.auto_highlight(); } }) ;\n",
       "  });\n",
       "});\n",
       "} catch (e) {};\n"
      ]
     },
     "metadata": {},
     "output_type": "display_data"
    }
   ],
   "source": [
    "import pynq\n",
    "import dishsoap\n",
    "import numpy as np\n",
    "\n",
    "dish = dishsoap.Overlay()"
   ]
  },
  {
   "cell_type": "code",
   "execution_count": 2,
   "id": "9837937e",
   "metadata": {
    "scrolled": false
   },
   "outputs": [
    {
     "name": "stdout",
     "output_type": "stream",
     "text": [
      "init state: [0 0 0]\n",
      "[[0 0 0]\n",
      " [0 0 0]\n",
      " [0 0 0]\n",
      " [0 0 0]\n",
      " [0 0 0]\n",
      " [0 0 0]]\n",
      "init state: [1 0 0]\n",
      "[[1 0 0]\n",
      " [0 1 1]\n",
      " [1 0 1]\n",
      " [0 0 1]\n",
      " [1 0 0]\n",
      " [0 1 1]]\n",
      "init state: [0 1 0]\n",
      "[[0 1 0]\n",
      " [0 0 1]\n",
      " [1 0 0]\n",
      " [0 1 1]\n",
      " [1 0 1]\n",
      " [0 0 1]]\n",
      "init state: [1 1 0]\n",
      "[[1 1 0]\n",
      " [0 1 1]\n",
      " [1 0 1]\n",
      " [0 0 1]\n",
      " [1 0 0]\n",
      " [0 1 1]]\n",
      "init state: [0 0 1]\n",
      "[[0 0 1]\n",
      " [1 0 0]\n",
      " [0 1 1]\n",
      " [1 0 1]\n",
      " [0 0 1]\n",
      " [1 0 0]]\n",
      "init state: [1 0 1]\n",
      "[[1 0 1]\n",
      " [0 0 1]\n",
      " [1 0 0]\n",
      " [0 1 1]\n",
      " [1 0 1]\n",
      " [0 0 1]]\n",
      "init state: [0 1 1]\n",
      "[[0 1 1]\n",
      " [1 0 1]\n",
      " [0 0 1]\n",
      " [1 0 0]\n",
      " [0 1 1]\n",
      " [1 0 1]]\n",
      "init state: [1 1 1]\n",
      "[[1 1 1]\n",
      " [0 0 1]\n",
      " [1 0 0]\n",
      " [0 1 1]\n",
      " [1 0 1]\n",
      " [0 0 1]]\n"
     ]
    }
   ],
   "source": [
    "# generate all network states\n",
    "all_init_states = np.arange(2**dish.net_size, dtype=np.uint64)\n",
    "\n",
    "for init in all_init_states:\n",
    "    # pretty-print the network state\n",
    "    print('init state:', dish.unpack(init))\n",
    "    # run each network state for some number of iterations\n",
    "    results = dish.run_synch_np(init, 5)\n",
    "    result_array = np.array([dish.unpack(r) for r in results])\n",
    "    print(result_array)"
   ]
  },
  {
   "cell_type": "code",
   "execution_count": 3,
   "id": "067ae4fa",
   "metadata": {
    "scrolled": false
   },
   "outputs": [
    {
     "name": "stdout",
     "output_type": "stream",
     "text": [
      "CPU times: user 909 µs, sys: 0 ns, total: 909 µs\n",
      "Wall time: 960 µs\n",
      "number states saved: 2000\n",
      "first two results:\r\n",
      " [[1 1 0]\n",
      " [0 1 1]]\n",
      "last two results:\r\n",
      " [[1 0 1]\n",
      " [0 0 1]]\n"
     ]
    }
   ],
   "source": [
    "init_state = dishsoap.list_to_packed([1,1,0])\n",
    "results = pynq.allocate(shape=(2000,), dtype=np.uint64)\n",
    "%time dish.run_synch_inplace(init_state, results)\n",
    "print('number states saved:', len(results))\n",
    "print('first two results:\\r\\n', dish.unpack(results[:2]))\n",
    "print('last two results:\\r\\n',  dish.unpack(results[-2:]))"
   ]
  },
  {
   "cell_type": "code",
   "execution_count": 44,
   "id": "00dfa5d9",
   "metadata": {},
   "outputs": [
    {
     "name": "stdout",
     "output_type": "stream",
     "text": [
      "---allocating all memory---\n",
      "CPU times: user 6.68 ms, sys: 20.4 ms, total: 27.1 ms\n",
      "Wall time: 41.9 ms\n",
      "---running DiSH---\n",
      "CPU times: user 1.03 ms, sys: 121 µs, total: 1.15 ms\n",
      "Wall time: 1.12 ms\n",
      "CPU times: user 2.89 ms, sys: 0 ns, total: 2.89 ms\n",
      "Wall time: 2.67 ms\n",
      "CPU times: user 3.27 ms, sys: 0 ns, total: 3.27 ms\n",
      "Wall time: 3.01 ms\n",
      "CPU times: user 3.8 ms, sys: 0 ns, total: 3.8 ms\n",
      "Wall time: 3.68 ms\n",
      "CPU times: user 0 ns, sys: 3.41 ms, total: 3.41 ms\n",
      "Wall time: 3.12 ms\n",
      "CPU times: user 0 ns, sys: 3.3 ms, total: 3.3 ms\n",
      "Wall time: 3.02 ms\n",
      "CPU times: user 0 ns, sys: 3.4 ms, total: 3.4 ms\n",
      "Wall time: 3.12 ms\n",
      "CPU times: user 2.95 ms, sys: 347 µs, total: 3.3 ms\n",
      "Wall time: 3.03 ms\n",
      "---total time---\n",
      "CPU times: user 70.5 ms, sys: 41.6 ms, total: 112 ms\n",
      "Wall time: 134 ms\n"
     ]
    }
   ],
   "source": [
    "%%time \n",
    "def benchmark(init_states, iterations = 5000):\n",
    "    print('---allocating all memory---')\n",
    "    n_states = len(init_states)\n",
    "    %time pynq.allocate(shape=(iterations*n_states,), dtype=np.uint64)\n",
    "    results = pynq.allocate(shape=(iterations,n_states), dtype=np.uint64)\n",
    "    print('---running DiSH---')\n",
    "    for s, r in zip(init_states, results):\n",
    "        %time dish.run_synch_inplace(s, r)\n",
    "    print('---total time---')\n",
    "    # show first and last, prove we did it all\n",
    "    #print(dish.unpack(results[:n_states,:1]))\n",
    "    #print(dish.unpack(results[:n_states,-1:]))\n",
    "    \n",
    "benchmark(all_init_states)"
   ]
  }
 ],
 "metadata": {
  "kernelspec": {
   "display_name": "Python 3",
   "language": "python",
   "name": "python3"
  },
  "language_info": {
   "codemirror_mode": {
    "name": "ipython",
    "version": 3
   },
   "file_extension": ".py",
   "mimetype": "text/x-python",
   "name": "python",
   "nbconvert_exporter": "python",
   "pygments_lexer": "ipython3",
   "version": "3.8.2"
  }
 },
 "nbformat": 4,
 "nbformat_minor": 5
}
