{
 "cells": [
  {
   "cell_type": "code",
   "execution_count": 2,
   "id": "5ee005c8-420f-4cba-87e4-ce9904eb63a8",
   "metadata": {},
   "outputs": [
    {
     "name": "stdout",
     "output_type": "stream",
     "text": [
      "Running:       1 153 µs ± 3.1 µs per loop (mean ± std. dev. of 7 runs, 10,000 loops each)\n",
      "Running:       2 269 µs ± 2.93 µs per loop (mean ± std. dev. of 7 runs, 1,000 loops each)\n",
      "Running:       4 419 µs ± 6.73 µs per loop (mean ± std. dev. of 7 runs, 1,000 loops each)\n",
      "Running:       8 694 µs ± 4 µs per loop (mean ± std. dev. of 7 runs, 1,000 loops each)\n",
      "Running:      16 1.27 ms ± 11 µs per loop (mean ± std. dev. of 7 runs, 1,000 loops each)\n",
      "Running:      32 2.41 ms ± 49.9 µs per loop (mean ± std. dev. of 7 runs, 100 loops each)\n",
      "Running:      64 4.64 ms ± 48.6 µs per loop (mean ± std. dev. of 7 runs, 100 loops each)\n",
      "Running:     128 9.23 ms ± 76.7 µs per loop (mean ± std. dev. of 7 runs, 100 loops each)\n",
      "Running:     256 18.2 ms ± 19.3 µs per loop (mean ± std. dev. of 7 runs, 100 loops each)\n",
      "Running:     512 36.6 ms ± 660 µs per loop (mean ± std. dev. of 7 runs, 10 loops each)\n",
      "Running:    1024 72.3 ms ± 453 µs per loop (mean ± std. dev. of 7 runs, 10 loops each)\n",
      "Running:    2048 144 ms ± 1.12 ms per loop (mean ± std. dev. of 7 runs, 10 loops each)\n",
      "Running:    4096 289 ms ± 2.94 ms per loop (mean ± std. dev. of 7 runs, 1 loop each)\n",
      "Running:    8192 581 ms ± 8.89 ms per loop (mean ± std. dev. of 7 runs, 1 loop each)\n",
      "Running:   16384 1.15 s ± 8.35 ms per loop (mean ± std. dev. of 7 runs, 1 loop each)\n",
      "Running:   32768 2.27 s ± 6.81 ms per loop (mean ± std. dev. of 7 runs, 1 loop each)\n"
     ]
    }
   ],
   "source": [
    "from dish.simulator import Simulator\n",
    "\n",
    "model = Simulator('gene_expression.xlsx')\n",
    "\n",
    "def benchmark(iterations: int):\n",
    "    model.run_simulation('sync', 1, iterations, f'bench-gene-expression-{iterations}.txt', 16, 2)\n",
    "\n",
    "steps = range(16)\n",
    "for iterations in [2**s for s in steps]:\n",
    "    print(f'Running: {iterations:7d} ', end='')\n",
    "    %timeit benchmark(iterations)"
   ]
  }
 ],
 "metadata": {
  "kernelspec": {
   "display_name": "Python 3 (ipykernel)",
   "language": "python",
   "name": "python3"
  },
  "language_info": {
   "codemirror_mode": {
    "name": "ipython",
    "version": 3
   },
   "file_extension": ".py",
   "mimetype": "text/x-python",
   "name": "python",
   "nbconvert_exporter": "python",
   "pygments_lexer": "ipython3",
   "version": "3.9.2"
  }
 },
 "nbformat": 4,
 "nbformat_minor": 5
}
