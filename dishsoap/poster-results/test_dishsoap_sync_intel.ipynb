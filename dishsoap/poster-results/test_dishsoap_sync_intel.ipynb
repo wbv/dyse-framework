{
 "cells": [
  {
   "cell_type": "code",
   "execution_count": 1,
   "id": "a3745848",
   "metadata": {},
   "outputs": [
    {
     "data": {
      "application/javascript": [
       "\n",
       "try {\n",
       "require(['notebook/js/codecell'], function(codecell) {\n",
       "  codecell.CodeCell.options_default.highlight_modes[\n",
       "      'magic_text/x-csrc'] = {'reg':[/^%%microblaze/]};\n",
       "  Jupyter.notebook.events.one('kernel_ready.Kernel', function(){\n",
       "      Jupyter.notebook.get_cells().map(function(cell){\n",
       "          if (cell.cell_type == 'code'){ cell.auto_highlight(); } }) ;\n",
       "  });\n",
       "});\n",
       "} catch (e) {};\n"
      ]
     },
     "metadata": {},
     "output_type": "display_data"
    },
    {
     "data": {
      "application/javascript": [
       "\n",
       "try {\n",
       "require(['notebook/js/codecell'], function(codecell) {\n",
       "  codecell.CodeCell.options_default.highlight_modes[\n",
       "      'magic_text/x-csrc'] = {'reg':[/^%%pybind11/]};\n",
       "  Jupyter.notebook.events.one('kernel_ready.Kernel', function(){\n",
       "      Jupyter.notebook.get_cells().map(function(cell){\n",
       "          if (cell.cell_type == 'code'){ cell.auto_highlight(); } }) ;\n",
       "  });\n",
       "});\n",
       "} catch (e) {};\n"
      ]
     },
     "metadata": {},
     "output_type": "display_data"
    }
   ],
   "source": [
    "import pynq\n",
    "import dishsoap\n",
    "import numpy as np\n",
    "\n",
    "dish = dishsoap.Overlay()"
   ]
  },
  {
   "cell_type": "markdown",
   "id": "c405d14f",
   "metadata": {},
   "source": [
    "**Simulate the simple network for 5 steps. Start with:**\n",
    "- *TF* set to `1`\n",
    "- All other elements set to `0`"
   ]
  },
  {
   "cell_type": "code",
   "execution_count": null,
   "id": "33b08a3e",
   "metadata": {},
   "outputs": [],
   "source": [
    "results = dish.run_synch([1,0,0,0,0], 5)\n",
    "for i, name in enumerate(dish.elements):\n",
    "    print(f'{name:10}', results[i])"
   ]
  },
  {
   "cell_type": "markdown",
   "id": "3f845267",
   "metadata": {},
   "source": [
    "**How long does it take to simulate this network for 5000 steps?**"
   ]
  },
  {
   "cell_type": "code",
   "execution_count": null,
   "id": "b9b6e9bf",
   "metadata": {},
   "outputs": [],
   "source": [
    "%%timeit results = pynq.allocate(shape=(5001,),dtype=np.uint64)\n",
    "dish.run_synch_inplace([0,1,0,0,0], results)"
   ]
  },
  {
   "cell_type": "markdown",
   "id": "319952a5",
   "metadata": {},
   "source": [
    "**How does runtime scale with iteration counts?**"
   ]
  },
  {
   "cell_type": "code",
   "execution_count": null,
   "id": "0fe8e680",
   "metadata": {},
   "outputs": [],
   "source": [
    "max_exp = 15\n",
    "results = pynq.allocate(shape=(max_exp + 1, 2**max_exp), dtype=np.uint64)\n",
    "for exp in range(max_exp + 1):\n",
    "    print('Running', 2**exp, 'iterations:')\n",
    "    %timeit dish.run_synch_inplace([1,0,0,0,0], results[exp,:2**exp])\n",
    "    "
   ]
  },
  {
   "cell_type": "code",
   "execution_count": null,
   "id": "63683765",
   "metadata": {},
   "outputs": [],
   "source": [
    "results = pynq.allocate(shape=(1001,),dtype=np.uint64)"
   ]
  },
  {
   "cell_type": "code",
   "execution_count": null,
   "id": "13012282",
   "metadata": {},
   "outputs": [],
   "source": [
    "%time dish.run_synch_inplace([1,1,1], results)"
   ]
  },
  {
   "cell_type": "code",
   "execution_count": null,
   "id": "9779369c",
   "metadata": {},
   "outputs": [],
   "source": [
    "x = results[:1000]"
   ]
  },
  {
   "cell_type": "code",
   "execution_count": null,
   "id": "c1854827",
   "metadata": {},
   "outputs": [],
   "source": [
    "x.shape"
   ]
  },
  {
   "cell_type": "code",
   "execution_count": null,
   "id": "e3e7aa27",
   "metadata": {},
   "outputs": [],
   "source": [
    "dish.unpack(results)"
   ]
  },
  {
   "cell_type": "code",
   "execution_count": null,
   "id": "53d19381",
   "metadata": {},
   "outputs": [],
   "source": [
    "results.shape"
   ]
  },
  {
   "cell_type": "code",
   "execution_count": null,
   "id": "9837937e",
   "metadata": {
    "scrolled": true
   },
   "outputs": [],
   "source": [
    "# generate all network states\n",
    "all_init_states = np.arange(2**dish.network_size, dtype=np.uint64)\n",
    "\n",
    "# for TReg network, pick only a few initial states ;)\n",
    "#all_init_states = np.array([0, 40, 5013, 108513, 13], dtype=np.uint64)\n",
    "\n",
    "for init in all_init_states:\n",
    "    # pretty-print the network state\n",
    "    print('init state:', dish.unpack(init))\n",
    "    # run each network state for some number of iterations\n",
    "    results = dish.run_synch_np(init, 5)\n",
    "    result_array = np.array([dish.unpack(r) for r in results])\n",
    "    print(result_array)"
   ]
  },
  {
   "cell_type": "code",
   "execution_count": null,
   "id": "067ae4fa",
   "metadata": {},
   "outputs": [],
   "source": [
    "init_state = dishsoap.list_to_packed([1,1,0])\n",
    "results = pynq.allocate(shape=(2000,), dtype=np.uint64)\n",
    "%time dish.run_synch_inplace(init_state, results)\n",
    "print('number states saved:', len(results))\n",
    "print('first two results:\\r\\n', dish.unpack(results[:2]))\n",
    "print('last two results:\\r\\n',  dish.unpack(results[-2:]))"
   ]
  },
  {
   "cell_type": "code",
   "execution_count": null,
   "id": "4c58a192",
   "metadata": {
    "scrolled": true
   },
   "outputs": [],
   "source": [
    "%%time \n",
    "def benchmark(init_states, iterations = 5000):\n",
    "    print('---allocating all memory---')\n",
    "    n_states = len(init_states)\n",
    "    %time pynq.allocate(shape=(iterations*n_states,), dtype=np.uint64)\n",
    "    results = pynq.allocate(shape=(iterations,n_states), dtype=np.uint64)\n",
    "    print('---running DiSH---')\n",
    "    for s, r in zip(init_states, results):\n",
    "        %time dish.run_synch_inplace(s, r)\n",
    "    print('---total time---')\n",
    "    # show first and last, prove we did it all\n",
    "    #print(dish.unpack(results[:n_states,:1]))\n",
    "    #print(dish.unpack(results[:n_states,-1:]))\n",
    "    \n",
    "benchmark(all_init_states)"
   ]
  },
  {
   "cell_type": "code",
   "execution_count": 2,
   "id": "7d6ba3f8",
   "metadata": {
    "scrolled": true
   },
   "outputs": [
    {
     "name": "stdout",
     "output_type": "stream",
     "text": [
      "Running:       1 3.71 ms ± 1.95 ms per loop (mean ± std. dev. of 7 runs, 100 loops each)\n",
      "Running:       2 3.43 ms ± 1.03 ms per loop (mean ± std. dev. of 7 runs, 100 loops each)\n",
      "Running:       4 3.52 ms ± 365 µs per loop (mean ± std. dev. of 7 runs, 100 loops each)\n",
      "Running:       8 4.52 ms ± 106 µs per loop (mean ± std. dev. of 7 runs, 100 loops each)\n",
      "Running:      16 7.02 ms ± 437 µs per loop (mean ± std. dev. of 7 runs, 100 loops each)\n",
      "Running:      32 13.8 ms ± 44.2 µs per loop (mean ± std. dev. of 7 runs, 100 loops each)\n",
      "Running:      64 22.7 ms ± 172 µs per loop (mean ± std. dev. of 7 runs, 10 loops each)\n",
      "Running:     128 40 ms ± 201 µs per loop (mean ± std. dev. of 7 runs, 10 loops each)\n",
      "Running:     256 76.2 ms ± 460 µs per loop (mean ± std. dev. of 7 runs, 10 loops each)\n",
      "Running:     512 147 ms ± 712 µs per loop (mean ± std. dev. of 7 runs, 10 loops each)\n",
      "Running:    1024 292 ms ± 9.89 ms per loop (mean ± std. dev. of 7 runs, 1 loop each)\n",
      "Running:    2048 581 ms ± 9.18 ms per loop (mean ± std. dev. of 7 runs, 1 loop each)\n",
      "Running:    4096 1.15 s ± 7.35 ms per loop (mean ± std. dev. of 7 runs, 1 loop each)\n",
      "Running:    8192 2.36 s ± 80.2 ms per loop (mean ± std. dev. of 7 runs, 1 loop each)\n",
      "Running:   16384 4.77 s ± 94 ms per loop (mean ± std. dev. of 7 runs, 1 loop each)\n",
      "Running:   32768 9.43 s ± 59.3 ms per loop (mean ± std. dev. of 7 runs, 1 loop each)\n"
     ]
    }
   ],
   "source": [
    "# do one where we just scale up each time\n",
    "def benchmark(init_state, results):\n",
    "    dish.run_synch_inplace(init_state, results)\n",
    "    # to be fair to DiSH, let's also write the output in the same format:\n",
    "    iterations = results.shape[0]\n",
    "    with open(f'bench-gene-expression-dishsoap-{iterations}.txt', 'w') as f:\n",
    "        f.write('# time ')\n",
    "        f.write(' '.join(dish.elements))\n",
    "        f.write(' step\\n')\n",
    "        \n",
    "        for step, vals in enumerate(dish.unpack(results)):\n",
    "            f.write(f'{step}  ')\n",
    "            f.write(' '.join([str(v) for v in vals]))\n",
    "            f.write(f' {step}\\n')\n",
    "\n",
    "steps = range(16)\n",
    "for iterations in [2**s for s in steps]:\n",
    "    results = pynq.allocate(shape=(iterations,), dtype=np.uint64)\n",
    "    print(f'Running: {iterations:7d} ', end='')\n",
    "    %timeit benchmark([1,0,0,0,0], results)"
   ]
  },
  {
   "cell_type": "markdown",
   "id": "b84db1ef",
   "metadata": {},
   "source": [
    "# Begin DiSH Benchmarks"
   ]
  },
  {
   "cell_type": "code",
   "execution_count": 2,
   "id": "23636178",
   "metadata": {},
   "outputs": [
    {
     "name": "stdout",
     "output_type": "stream",
     "text": [
      "Running:       1 1.06 ms ± 8.66 µs per loop (mean ± std. dev. of 7 runs, 1,000 loops each)\n",
      "Running:       2 1.94 ms ± 7.11 µs per loop (mean ± std. dev. of 7 runs, 1,000 loops each)\n",
      "Running:       4 3.73 ms ± 63.4 µs per loop (mean ± std. dev. of 7 runs, 100 loops each)\n",
      "Running:       8 7.28 ms ± 58.8 µs per loop (mean ± std. dev. of 7 runs, 100 loops each)\n",
      "Running:      16 14.3 ms ± 34.5 µs per loop (mean ± std. dev. of 7 runs, 100 loops each)\n",
      "Running:      32 28.5 ms ± 531 µs per loop (mean ± std. dev. of 7 runs, 10 loops each)\n",
      "Running:      64 56.1 ms ± 902 µs per loop (mean ± std. dev. of 7 runs, 10 loops each)\n",
      "Running:     128 117 ms ± 2.22 ms per loop (mean ± std. dev. of 7 runs, 10 loops each)\n",
      "Running:     256 231 ms ± 4.56 ms per loop (mean ± std. dev. of 7 runs, 1 loop each)\n",
      "Running:     512 454 ms ± 8.04 ms per loop (mean ± std. dev. of 7 runs, 1 loop each)\n",
      "Running:    1024 906 ms ± 7.41 ms per loop (mean ± std. dev. of 7 runs, 1 loop each)\n",
      "Running:    2048 1.79 s ± 3.49 ms per loop (mean ± std. dev. of 7 runs, 1 loop each)\n",
      "Running:    4096 3.59 s ± 9.08 ms per loop (mean ± std. dev. of 7 runs, 1 loop each)\n",
      "Running:    8192 7.17 s ± 17.2 ms per loop (mean ± std. dev. of 7 runs, 1 loop each)\n",
      "Running:   16384 14.3 s ± 80.9 ms per loop (mean ± std. dev. of 7 runs, 1 loop each)\n",
      "Running:   32768 28.7 s ± 93.8 ms per loop (mean ± std. dev. of 7 runs, 1 loop each)\n"
     ]
    }
   ],
   "source": [
    "from dish.simulator import Simulator\n",
    "\n",
    "model = Simulator('tcell-regulatory.xlsx')\n",
    "\n",
    "def benchmark(iterations: int):\n",
    "    model.run_simulation('sync', 1, iterations, f'bench-tcell-regulatory-{iterations}.txt', 0, 2)\n",
    "\n",
    "steps = range(16)\n",
    "for iterations in [2**s for s in steps]:\n",
    "    print(f'Running: {iterations:7d} ', end='')\n",
    "    %timeit benchmark(iterations)"
   ]
  },
  {
   "cell_type": "code",
   "execution_count": 11,
   "id": "08854061",
   "metadata": {},
   "outputs": [
    {
     "name": "stdout",
     "output_type": "stream",
     "text": [
      "Running:       1 2.68 ms ± 34.5 µs per loop (mean ± std. dev. of 7 runs, 10 loops each)\n",
      "Running:       2 2.68 ms ± 10.3 µs per loop (mean ± std. dev. of 7 runs, 100 loops each)\n",
      "Running:       4 2.97 ms ± 686 µs per loop (mean ± std. dev. of 7 runs, 100 loops each)\n",
      "Running:       8 4.44 ms ± 2.57 ms per loop (mean ± std. dev. of 7 runs, 100 loops each)\n",
      "Running:      16 2.71 ms ± 18.7 µs per loop (mean ± std. dev. of 7 runs, 100 loops each)\n",
      "Running:      32 2.75 ms ± 143 µs per loop (mean ± std. dev. of 7 runs, 100 loops each)\n",
      "Running:      64 2.8 ms ± 94.5 µs per loop (mean ± std. dev. of 7 runs, 100 loops each)\n",
      "Running:     128 2.89 ms ± 323 µs per loop (mean ± std. dev. of 7 runs, 100 loops each)\n",
      "Running:     256 2.87 ms ± 82.2 µs per loop (mean ± std. dev. of 7 runs, 100 loops each)\n",
      "Running:     512 3.4 ms ± 1.02 ms per loop (mean ± std. dev. of 7 runs, 100 loops each)\n",
      "Running:    1024 3.38 ms ± 74.4 µs per loop (mean ± std. dev. of 7 runs, 100 loops each)\n",
      "Running:    2048 4.73 ms ± 2.06 ms per loop (mean ± std. dev. of 7 runs, 100 loops each)\n",
      "Running:    4096 4.91 ms ± 137 µs per loop (mean ± std. dev. of 7 runs, 100 loops each)\n",
      "Running:    8192 10.4 ms ± 109 µs per loop (mean ± std. dev. of 7 runs, 100 loops each)\n",
      "Running:   16384 15.7 ms ± 121 µs per loop (mean ± std. dev. of 7 runs, 100 loops each)\n",
      "Running:   32768 25.8 ms ± 48.8 µs per loop (mean ± std. dev. of 7 runs, 10 loops each)\n"
     ]
    }
   ],
   "source": [
    "# now be unfair to DiSH: show off a smarter way to save our run data\n",
    "import pickle, gzip\n",
    "\n",
    "def benchmark(init_state, results):\n",
    "    dish.run_synch_inplace(init_state, results)\n",
    "    # write the output in a much more effective format\n",
    "    iterations = results.shape[0]\n",
    "    with gzip.open(f'bench-gene-expression-dishsoap-{iterations}.pickle.gz', 'wb') as f:\n",
    "        data = {\n",
    "            'elements': dish.elements,\n",
    "            'results': results,\n",
    "        }\n",
    "        pickle.dump(data, f)\n",
    "\n",
    "steps = range(16)\n",
    "for iterations in [2**s for s in steps]:\n",
    "    results = pynq.allocate(shape=(iterations,), dtype=np.uint64)\n",
    "    print(f'Running: {iterations:7d} ', end='')\n",
    "    %timeit benchmark([1,0,0,0,0], results)"
   ]
  },
  {
   "cell_type": "code",
   "execution_count": 7,
   "id": "56bdacf1",
   "metadata": {},
   "outputs": [
    {
     "data": {
      "text/plain": [
       "{'elements': ['Inh', 'TF', 'Xgene', 'Xprotein', 'Xrna'],\n",
       " 'results': PynqBuffer([ 1,  5, 13, 29, 29, 29, 29, 29, 29, 29, 29, 29, 29, 29, 29,\n",
       "             29], dtype=uint64)}"
      ]
     },
     "execution_count": 7,
     "metadata": {},
     "output_type": "execute_result"
    }
   ],
   "source": [
    "unpickled = None\n",
    "with gzip.open('bench-gene-expression-dishsoap-16.pickle.gz', 'rb') as f:\n",
    "    unpickled = pickle.load(f)\n",
    "\n",
    "unpickled"
   ]
  },
  {
   "cell_type": "code",
   "execution_count": 10,
   "id": "9fd48815",
   "metadata": {},
   "outputs": [
    {
     "data": {
      "text/plain": [
       "['TF', 'Inh', 'Xgene', 'Xrna', 'Xprotein']"
      ]
     },
     "execution_count": 10,
     "metadata": {},
     "output_type": "execute_result"
    }
   ],
   "source": [
    "dish.elements"
   ]
  }
 ],
 "metadata": {
  "kernelspec": {
   "display_name": "Python 3 (ipykernel)",
   "language": "python",
   "name": "python3"
  },
  "language_info": {
   "codemirror_mode": {
    "name": "ipython",
    "version": 3
   },
   "file_extension": ".py",
   "mimetype": "text/x-python",
   "name": "python",
   "nbconvert_exporter": "python",
   "pygments_lexer": "ipython3",
   "version": "3.9.2"
  }
 },
 "nbformat": 4,
 "nbformat_minor": 5
}
